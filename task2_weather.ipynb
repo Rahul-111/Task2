{
 "cells": [
  {
   "cell_type": "code",
   "execution_count": 248,
   "metadata": {},
   "outputs": [],
   "source": [
    "import numpy as np\n",
    "import pandas as pd\n",
    "import matplotlib.pyplot as plt"
   ]
  },
  {
   "cell_type": "code",
   "execution_count": 249,
   "metadata": {},
   "outputs": [],
   "source": [
    "import seaborn as sns"
   ]
  },
  {
   "cell_type": "code",
   "execution_count": 250,
   "metadata": {},
   "outputs": [],
   "source": [
    "# df=pd.read_csv('testset.csv')\n",
    "df = pd.read_csv(\"testset.csv\", parse_dates=['datetime_utc'], index_col='datetime_utc')"
   ]
  },
  {
   "cell_type": "code",
   "execution_count": 251,
   "metadata": {},
   "outputs": [
    {
     "data": {
      "text/html": [
       "<div>\n",
       "<style scoped>\n",
       "    .dataframe tbody tr th:only-of-type {\n",
       "        vertical-align: middle;\n",
       "    }\n",
       "\n",
       "    .dataframe tbody tr th {\n",
       "        vertical-align: top;\n",
       "    }\n",
       "\n",
       "    .dataframe thead th {\n",
       "        text-align: right;\n",
       "    }\n",
       "</style>\n",
       "<table border=\"1\" class=\"dataframe\">\n",
       "  <thead>\n",
       "    <tr style=\"text-align: right;\">\n",
       "      <th></th>\n",
       "      <th>_conds</th>\n",
       "      <th>_dewptm</th>\n",
       "      <th>_fog</th>\n",
       "      <th>_hail</th>\n",
       "      <th>_heatindexm</th>\n",
       "      <th>_hum</th>\n",
       "      <th>_precipm</th>\n",
       "      <th>_pressurem</th>\n",
       "      <th>_rain</th>\n",
       "      <th>_snow</th>\n",
       "      <th>_tempm</th>\n",
       "      <th>_thunder</th>\n",
       "      <th>_tornado</th>\n",
       "      <th>_vism</th>\n",
       "      <th>_wdird</th>\n",
       "      <th>_wdire</th>\n",
       "      <th>_wgustm</th>\n",
       "      <th>_windchillm</th>\n",
       "      <th>_wspdm</th>\n",
       "    </tr>\n",
       "    <tr>\n",
       "      <th>datetime_utc</th>\n",
       "      <th></th>\n",
       "      <th></th>\n",
       "      <th></th>\n",
       "      <th></th>\n",
       "      <th></th>\n",
       "      <th></th>\n",
       "      <th></th>\n",
       "      <th></th>\n",
       "      <th></th>\n",
       "      <th></th>\n",
       "      <th></th>\n",
       "      <th></th>\n",
       "      <th></th>\n",
       "      <th></th>\n",
       "      <th></th>\n",
       "      <th></th>\n",
       "      <th></th>\n",
       "      <th></th>\n",
       "      <th></th>\n",
       "    </tr>\n",
       "  </thead>\n",
       "  <tbody>\n",
       "    <tr>\n",
       "      <th>1996-11-01 11:00:00</th>\n",
       "      <td>Smoke</td>\n",
       "      <td>9.0</td>\n",
       "      <td>0</td>\n",
       "      <td>0</td>\n",
       "      <td>NaN</td>\n",
       "      <td>27.0</td>\n",
       "      <td>NaN</td>\n",
       "      <td>1010.0</td>\n",
       "      <td>0</td>\n",
       "      <td>0</td>\n",
       "      <td>30.0</td>\n",
       "      <td>0</td>\n",
       "      <td>0</td>\n",
       "      <td>5.0</td>\n",
       "      <td>280.0</td>\n",
       "      <td>West</td>\n",
       "      <td>NaN</td>\n",
       "      <td>NaN</td>\n",
       "      <td>7.4</td>\n",
       "    </tr>\n",
       "    <tr>\n",
       "      <th>1996-11-01 12:00:00</th>\n",
       "      <td>Smoke</td>\n",
       "      <td>10.0</td>\n",
       "      <td>0</td>\n",
       "      <td>0</td>\n",
       "      <td>NaN</td>\n",
       "      <td>32.0</td>\n",
       "      <td>NaN</td>\n",
       "      <td>-9999.0</td>\n",
       "      <td>0</td>\n",
       "      <td>0</td>\n",
       "      <td>28.0</td>\n",
       "      <td>0</td>\n",
       "      <td>0</td>\n",
       "      <td>NaN</td>\n",
       "      <td>0.0</td>\n",
       "      <td>North</td>\n",
       "      <td>NaN</td>\n",
       "      <td>NaN</td>\n",
       "      <td>NaN</td>\n",
       "    </tr>\n",
       "    <tr>\n",
       "      <th>1996-11-01 13:00:00</th>\n",
       "      <td>Smoke</td>\n",
       "      <td>11.0</td>\n",
       "      <td>0</td>\n",
       "      <td>0</td>\n",
       "      <td>NaN</td>\n",
       "      <td>44.0</td>\n",
       "      <td>NaN</td>\n",
       "      <td>-9999.0</td>\n",
       "      <td>0</td>\n",
       "      <td>0</td>\n",
       "      <td>24.0</td>\n",
       "      <td>0</td>\n",
       "      <td>0</td>\n",
       "      <td>NaN</td>\n",
       "      <td>0.0</td>\n",
       "      <td>North</td>\n",
       "      <td>NaN</td>\n",
       "      <td>NaN</td>\n",
       "      <td>NaN</td>\n",
       "    </tr>\n",
       "    <tr>\n",
       "      <th>1996-11-01 14:00:00</th>\n",
       "      <td>Smoke</td>\n",
       "      <td>10.0</td>\n",
       "      <td>0</td>\n",
       "      <td>0</td>\n",
       "      <td>NaN</td>\n",
       "      <td>41.0</td>\n",
       "      <td>NaN</td>\n",
       "      <td>1010.0</td>\n",
       "      <td>0</td>\n",
       "      <td>0</td>\n",
       "      <td>24.0</td>\n",
       "      <td>0</td>\n",
       "      <td>0</td>\n",
       "      <td>2.0</td>\n",
       "      <td>0.0</td>\n",
       "      <td>North</td>\n",
       "      <td>NaN</td>\n",
       "      <td>NaN</td>\n",
       "      <td>NaN</td>\n",
       "    </tr>\n",
       "    <tr>\n",
       "      <th>1996-11-01 16:00:00</th>\n",
       "      <td>Smoke</td>\n",
       "      <td>11.0</td>\n",
       "      <td>0</td>\n",
       "      <td>0</td>\n",
       "      <td>NaN</td>\n",
       "      <td>47.0</td>\n",
       "      <td>NaN</td>\n",
       "      <td>1011.0</td>\n",
       "      <td>0</td>\n",
       "      <td>0</td>\n",
       "      <td>23.0</td>\n",
       "      <td>0</td>\n",
       "      <td>0</td>\n",
       "      <td>1.2</td>\n",
       "      <td>0.0</td>\n",
       "      <td>North</td>\n",
       "      <td>NaN</td>\n",
       "      <td>NaN</td>\n",
       "      <td>0.0</td>\n",
       "    </tr>\n",
       "  </tbody>\n",
       "</table>\n",
       "</div>"
      ],
      "text/plain": [
       "                     _conds   _dewptm   _fog   _hail   _heatindexm   _hum  \\\n",
       "datetime_utc                                                                \n",
       "1996-11-01 11:00:00   Smoke       9.0      0       0           NaN   27.0   \n",
       "1996-11-01 12:00:00   Smoke      10.0      0       0           NaN   32.0   \n",
       "1996-11-01 13:00:00   Smoke      11.0      0       0           NaN   44.0   \n",
       "1996-11-01 14:00:00   Smoke      10.0      0       0           NaN   41.0   \n",
       "1996-11-01 16:00:00   Smoke      11.0      0       0           NaN   47.0   \n",
       "\n",
       "                      _precipm   _pressurem   _rain   _snow   _tempm  \\\n",
       "datetime_utc                                                           \n",
       "1996-11-01 11:00:00        NaN       1010.0       0       0     30.0   \n",
       "1996-11-01 12:00:00        NaN      -9999.0       0       0     28.0   \n",
       "1996-11-01 13:00:00        NaN      -9999.0       0       0     24.0   \n",
       "1996-11-01 14:00:00        NaN       1010.0       0       0     24.0   \n",
       "1996-11-01 16:00:00        NaN       1011.0       0       0     23.0   \n",
       "\n",
       "                      _thunder   _tornado   _vism   _wdird  _wdire   _wgustm  \\\n",
       "datetime_utc                                                                   \n",
       "1996-11-01 11:00:00          0          0     5.0    280.0    West       NaN   \n",
       "1996-11-01 12:00:00          0          0     NaN      0.0   North       NaN   \n",
       "1996-11-01 13:00:00          0          0     NaN      0.0   North       NaN   \n",
       "1996-11-01 14:00:00          0          0     2.0      0.0   North       NaN   \n",
       "1996-11-01 16:00:00          0          0     1.2      0.0   North       NaN   \n",
       "\n",
       "                      _windchillm   _wspdm  \n",
       "datetime_utc                                \n",
       "1996-11-01 11:00:00           NaN      7.4  \n",
       "1996-11-01 12:00:00           NaN      NaN  \n",
       "1996-11-01 13:00:00           NaN      NaN  \n",
       "1996-11-01 14:00:00           NaN      NaN  \n",
       "1996-11-01 16:00:00           NaN      0.0  "
      ]
     },
     "execution_count": 251,
     "metadata": {},
     "output_type": "execute_result"
    }
   ],
   "source": [
    "df.head()"
   ]
  },
  {
   "cell_type": "code",
   "execution_count": 252,
   "metadata": {},
   "outputs": [
    {
     "data": {
      "text/plain": [
       "Index([' _conds', ' _dewptm', ' _fog', ' _hail', ' _heatindexm', ' _hum',\n",
       "       ' _precipm', ' _pressurem', ' _rain', ' _snow', ' _tempm', ' _thunder',\n",
       "       ' _tornado', ' _vism', ' _wdird', ' _wdire', ' _wgustm', ' _windchillm',\n",
       "       ' _wspdm'],\n",
       "      dtype='object')"
      ]
     },
     "execution_count": 252,
     "metadata": {},
     "output_type": "execute_result"
    }
   ],
   "source": [
    "df.columns"
   ]
  },
  {
   "cell_type": "code",
   "execution_count": 253,
   "metadata": {},
   "outputs": [],
   "source": [
    "#sns.heatmap(train.isnull(),yticklabels=False,cbar=False,cmap='viridis')"
   ]
  },
  {
   "cell_type": "code",
   "execution_count": 254,
   "metadata": {},
   "outputs": [],
   "source": [
    "# rename columns\n",
    "new_cols = [x.replace(' _','') for x in df.columns]\n",
    "df.columns = new_cols"
   ]
  },
  {
   "cell_type": "code",
   "execution_count": 255,
   "metadata": {},
   "outputs": [
    {
     "data": {
      "text/plain": [
       "Index(['conds', 'dewptm', 'fog', 'hail', 'heatindexm', 'hum', 'precipm',\n",
       "       'pressurem', 'rain', 'snow', 'tempm', 'thunder', 'tornado', 'vism',\n",
       "       'wdird', 'wdire', 'wgustm', 'windchillm', 'wspdm'],\n",
       "      dtype='object')"
      ]
     },
     "execution_count": 255,
     "metadata": {},
     "output_type": "execute_result"
    }
   ],
   "source": [
    "df.columns"
   ]
  },
  {
   "cell_type": "code",
   "execution_count": 256,
   "metadata": {},
   "outputs": [],
   "source": [
    "heattindexm=df['heatindexm'].unique()"
   ]
  },
  {
   "cell_type": "code",
   "execution_count": 257,
   "metadata": {},
   "outputs": [
    {
     "data": {
      "text/plain": [
       "array([ nan, 26.8, 27.5, 27. , 28. , 34.5, 27.6, 27.1, 27.8, 29.2, 27.3,\n",
       "       27.7, 28.3, 28.5, 28.8, 28.4, 29.8, 29.4, 30.3, 30.9, 31.6, 32.1,\n",
       "       31.9, 31.2, 29.1, 28.2, 30. , 31.4, 32.6, 29.7, 33. , 32.7, 27.9,\n",
       "       33.3, 33.9, 29. , 30.7, 28.6, 30.6, 34.7, 35.8, 34.9, 38.1, 38.4,\n",
       "       37.5, 36.2, 30.2, 31.3, 35.2, 36.9, 35.7, 33.2, 33.6, 33.7, 32.8,\n",
       "       32.3, 28.9, 32.4, 33.4, 35.1, 34. , 31.7, 35.6, 37.6, 35.5, 37.1,\n",
       "       36.4, 34.3, 37.9, 38.5, 37.2, 39.3, 41.6, 39.8, 36.7, 34.1, 39.5,\n",
       "       40.6, 42.9, 43. , 44.4, 41.8, 40.3, 39.1, 35.4, 35. , 42. , 42.3,\n",
       "       33.5, 31.8, 40.4, 44.6, 47.4, 45.3, 44.3, 37.8, 36.5, 34.4, 32. ,\n",
       "       49.8, 38.8, 40.5, 36.8, 40.1, 40.9, 36. , 30.1, 43.1, 40.8, 29.6,\n",
       "       43.2, 41.3, 43.6, 42.7, 44.9, 41.9, 39.2, 46.8, 45.5, 45.1, 45.6,\n",
       "       45.8, 42.5, 43.9, 46. , 46.5, 46.1, 42.1, 50.4, 48.6, 48.7, 43.5,\n",
       "       37.4, 48.1, 47.3, 47.6, 39.7, 49. , 49.7, 46.9, 45.7, 52.2, 44.5,\n",
       "       39. , 49.5, 47.1, 37.7, 43.3, 48.3, 51.4, 51.6, 48.5, 50.2, 46.3,\n",
       "       44.2, 49.4, 51. , 55.9, 53.3, 53. , 50.9, 36.1, 38.3, 40.7, 41.5,\n",
       "       46.7, 44. , 42.4, 45. , 42.6, 51.3, 52.3, 47.2, 57.8, 61.2, 54.8,\n",
       "       54.6, 41.2, 39.4, 38. , 45.4, 42.2, 43.4, 46.4, 48.2, 48.4, 59.3,\n",
       "       73.6, 46.6, 45.9, 47.8, 50.7, 52.1, 49.6])"
      ]
     },
     "execution_count": 257,
     "metadata": {},
     "output_type": "execute_result"
    }
   ],
   "source": [
    "heattindexm"
   ]
  },
  {
   "cell_type": "code",
   "execution_count": 258,
   "metadata": {},
   "outputs": [],
   "source": [
    "precipm=df['precipm'].unique()"
   ]
  },
  {
   "cell_type": "code",
   "execution_count": 259,
   "metadata": {},
   "outputs": [
    {
     "data": {
      "text/plain": [
       "array([nan])"
      ]
     },
     "execution_count": 259,
     "metadata": {},
     "output_type": "execute_result"
    }
   ],
   "source": [
    "precipm"
   ]
  },
  {
   "cell_type": "code",
   "execution_count": 260,
   "metadata": {},
   "outputs": [],
   "source": [
    "#remove colomn precipm it contains only nan"
   ]
  },
  {
   "cell_type": "code",
   "execution_count": 261,
   "metadata": {},
   "outputs": [],
   "source": [
    "df = df.drop('precipm', axis=1)"
   ]
  },
  {
   "cell_type": "code",
   "execution_count": 262,
   "metadata": {},
   "outputs": [
    {
     "data": {
      "text/plain": [
       "Index(['conds', 'dewptm', 'fog', 'hail', 'heatindexm', 'hum', 'pressurem',\n",
       "       'rain', 'snow', 'tempm', 'thunder', 'tornado', 'vism', 'wdird', 'wdire',\n",
       "       'wgustm', 'windchillm', 'wspdm'],\n",
       "      dtype='object')"
      ]
     },
     "execution_count": 262,
     "metadata": {},
     "output_type": "execute_result"
    }
   ],
   "source": [
    "df.columns"
   ]
  },
  {
   "cell_type": "code",
   "execution_count": 263,
   "metadata": {},
   "outputs": [],
   "source": [
    "wgustm=df['wgustm'].unique()"
   ]
  },
  {
   "cell_type": "code",
   "execution_count": 264,
   "metadata": {},
   "outputs": [
    {
     "data": {
      "text/plain": [
       "array([ nan, 50. , 31.5, 27.8, 37. , 40.7, 44.4, 33.3, 46.3, 35.2, 51.9,\n",
       "       55.6, 29.6, 59.3, 64.8, 74.1, 25.9, 48.2, 42.6, 38.9, 83.3, 92.6,\n",
       "       63. ])"
      ]
     },
     "execution_count": 264,
     "metadata": {},
     "output_type": "execute_result"
    }
   ],
   "source": [
    "wgustm"
   ]
  },
  {
   "cell_type": "code",
   "execution_count": 265,
   "metadata": {},
   "outputs": [],
   "source": [
    "windchillm=df['windchillm'].unique()"
   ]
  },
  {
   "cell_type": "code",
   "execution_count": 266,
   "metadata": {},
   "outputs": [
    {
     "data": {
      "text/plain": [
       "array([nan, 6.2, 3.9, 4. , 6.4, 5.7, 5.2, 3.3, 2.1, 3.7, 4.5, 6.1, 7.3,\n",
       "       5. , 6.8, 5.3, 4.9, 5.8, 5.5, 4.3, 2.8])"
      ]
     },
     "execution_count": 266,
     "metadata": {},
     "output_type": "execute_result"
    }
   ],
   "source": [
    "windchillm"
   ]
  },
  {
   "cell_type": "code",
   "execution_count": 267,
   "metadata": {},
   "outputs": [
    {
     "data": {
      "text/html": [
       "<div>\n",
       "<style scoped>\n",
       "    .dataframe tbody tr th:only-of-type {\n",
       "        vertical-align: middle;\n",
       "    }\n",
       "\n",
       "    .dataframe tbody tr th {\n",
       "        vertical-align: top;\n",
       "    }\n",
       "\n",
       "    .dataframe thead th {\n",
       "        text-align: right;\n",
       "    }\n",
       "</style>\n",
       "<table border=\"1\" class=\"dataframe\">\n",
       "  <thead>\n",
       "    <tr style=\"text-align: right;\">\n",
       "      <th></th>\n",
       "      <th>conds</th>\n",
       "      <th>dewptm</th>\n",
       "      <th>fog</th>\n",
       "      <th>hail</th>\n",
       "      <th>heatindexm</th>\n",
       "      <th>hum</th>\n",
       "      <th>pressurem</th>\n",
       "      <th>rain</th>\n",
       "      <th>snow</th>\n",
       "      <th>tempm</th>\n",
       "      <th>thunder</th>\n",
       "      <th>tornado</th>\n",
       "      <th>vism</th>\n",
       "      <th>wdird</th>\n",
       "      <th>wdire</th>\n",
       "      <th>wgustm</th>\n",
       "      <th>windchillm</th>\n",
       "      <th>wspdm</th>\n",
       "    </tr>\n",
       "    <tr>\n",
       "      <th>datetime_utc</th>\n",
       "      <th></th>\n",
       "      <th></th>\n",
       "      <th></th>\n",
       "      <th></th>\n",
       "      <th></th>\n",
       "      <th></th>\n",
       "      <th></th>\n",
       "      <th></th>\n",
       "      <th></th>\n",
       "      <th></th>\n",
       "      <th></th>\n",
       "      <th></th>\n",
       "      <th></th>\n",
       "      <th></th>\n",
       "      <th></th>\n",
       "      <th></th>\n",
       "      <th></th>\n",
       "      <th></th>\n",
       "    </tr>\n",
       "  </thead>\n",
       "  <tbody>\n",
       "    <tr>\n",
       "      <th>1996-11-01 11:00:00</th>\n",
       "      <td>Smoke</td>\n",
       "      <td>9.0</td>\n",
       "      <td>0</td>\n",
       "      <td>0</td>\n",
       "      <td>NaN</td>\n",
       "      <td>27.0</td>\n",
       "      <td>1010.0</td>\n",
       "      <td>0</td>\n",
       "      <td>0</td>\n",
       "      <td>30.0</td>\n",
       "      <td>0</td>\n",
       "      <td>0</td>\n",
       "      <td>5.0</td>\n",
       "      <td>280.0</td>\n",
       "      <td>West</td>\n",
       "      <td>NaN</td>\n",
       "      <td>NaN</td>\n",
       "      <td>7.4</td>\n",
       "    </tr>\n",
       "    <tr>\n",
       "      <th>1996-11-01 12:00:00</th>\n",
       "      <td>Smoke</td>\n",
       "      <td>10.0</td>\n",
       "      <td>0</td>\n",
       "      <td>0</td>\n",
       "      <td>NaN</td>\n",
       "      <td>32.0</td>\n",
       "      <td>-9999.0</td>\n",
       "      <td>0</td>\n",
       "      <td>0</td>\n",
       "      <td>28.0</td>\n",
       "      <td>0</td>\n",
       "      <td>0</td>\n",
       "      <td>NaN</td>\n",
       "      <td>0.0</td>\n",
       "      <td>North</td>\n",
       "      <td>NaN</td>\n",
       "      <td>NaN</td>\n",
       "      <td>NaN</td>\n",
       "    </tr>\n",
       "    <tr>\n",
       "      <th>1996-11-01 13:00:00</th>\n",
       "      <td>Smoke</td>\n",
       "      <td>11.0</td>\n",
       "      <td>0</td>\n",
       "      <td>0</td>\n",
       "      <td>NaN</td>\n",
       "      <td>44.0</td>\n",
       "      <td>-9999.0</td>\n",
       "      <td>0</td>\n",
       "      <td>0</td>\n",
       "      <td>24.0</td>\n",
       "      <td>0</td>\n",
       "      <td>0</td>\n",
       "      <td>NaN</td>\n",
       "      <td>0.0</td>\n",
       "      <td>North</td>\n",
       "      <td>NaN</td>\n",
       "      <td>NaN</td>\n",
       "      <td>NaN</td>\n",
       "    </tr>\n",
       "    <tr>\n",
       "      <th>1996-11-01 14:00:00</th>\n",
       "      <td>Smoke</td>\n",
       "      <td>10.0</td>\n",
       "      <td>0</td>\n",
       "      <td>0</td>\n",
       "      <td>NaN</td>\n",
       "      <td>41.0</td>\n",
       "      <td>1010.0</td>\n",
       "      <td>0</td>\n",
       "      <td>0</td>\n",
       "      <td>24.0</td>\n",
       "      <td>0</td>\n",
       "      <td>0</td>\n",
       "      <td>2.0</td>\n",
       "      <td>0.0</td>\n",
       "      <td>North</td>\n",
       "      <td>NaN</td>\n",
       "      <td>NaN</td>\n",
       "      <td>NaN</td>\n",
       "    </tr>\n",
       "    <tr>\n",
       "      <th>1996-11-01 16:00:00</th>\n",
       "      <td>Smoke</td>\n",
       "      <td>11.0</td>\n",
       "      <td>0</td>\n",
       "      <td>0</td>\n",
       "      <td>NaN</td>\n",
       "      <td>47.0</td>\n",
       "      <td>1011.0</td>\n",
       "      <td>0</td>\n",
       "      <td>0</td>\n",
       "      <td>23.0</td>\n",
       "      <td>0</td>\n",
       "      <td>0</td>\n",
       "      <td>1.2</td>\n",
       "      <td>0.0</td>\n",
       "      <td>North</td>\n",
       "      <td>NaN</td>\n",
       "      <td>NaN</td>\n",
       "      <td>0.0</td>\n",
       "    </tr>\n",
       "  </tbody>\n",
       "</table>\n",
       "</div>"
      ],
      "text/plain": [
       "                     conds  dewptm  fog  hail  heatindexm   hum  pressurem  \\\n",
       "datetime_utc                                                                 \n",
       "1996-11-01 11:00:00  Smoke     9.0    0     0         NaN  27.0     1010.0   \n",
       "1996-11-01 12:00:00  Smoke    10.0    0     0         NaN  32.0    -9999.0   \n",
       "1996-11-01 13:00:00  Smoke    11.0    0     0         NaN  44.0    -9999.0   \n",
       "1996-11-01 14:00:00  Smoke    10.0    0     0         NaN  41.0     1010.0   \n",
       "1996-11-01 16:00:00  Smoke    11.0    0     0         NaN  47.0     1011.0   \n",
       "\n",
       "                     rain  snow  tempm  thunder  tornado  vism  wdird  wdire  \\\n",
       "datetime_utc                                                                   \n",
       "1996-11-01 11:00:00     0     0   30.0        0        0   5.0  280.0   West   \n",
       "1996-11-01 12:00:00     0     0   28.0        0        0   NaN    0.0  North   \n",
       "1996-11-01 13:00:00     0     0   24.0        0        0   NaN    0.0  North   \n",
       "1996-11-01 14:00:00     0     0   24.0        0        0   2.0    0.0  North   \n",
       "1996-11-01 16:00:00     0     0   23.0        0        0   1.2    0.0  North   \n",
       "\n",
       "                     wgustm  windchillm  wspdm  \n",
       "datetime_utc                                    \n",
       "1996-11-01 11:00:00     NaN         NaN    7.4  \n",
       "1996-11-01 12:00:00     NaN         NaN    NaN  \n",
       "1996-11-01 13:00:00     NaN         NaN    NaN  \n",
       "1996-11-01 14:00:00     NaN         NaN    NaN  \n",
       "1996-11-01 16:00:00     NaN         NaN    0.0  "
      ]
     },
     "execution_count": 267,
     "metadata": {},
     "output_type": "execute_result"
    }
   ],
   "source": [
    "df.head()"
   ]
  },
  {
   "cell_type": "code",
   "execution_count": 268,
   "metadata": {},
   "outputs": [],
   "source": [
    "# #df.mean(axis = 1, skipna = True) \n",
    "# df['heatindexm'].mean(skipna=True)"
   ]
  },
  {
   "cell_type": "code",
   "execution_count": 269,
   "metadata": {},
   "outputs": [],
   "source": [
    "# df['heatindexm'].fillna((df['heatindexm'].mean()), inplace=True)"
   ]
  },
  {
   "cell_type": "code",
   "execution_count": null,
   "metadata": {},
   "outputs": [],
   "source": []
  },
  {
   "cell_type": "code",
   "execution_count": 270,
   "metadata": {},
   "outputs": [],
   "source": [
    "# hum =df['hum']"
   ]
  },
  {
   "cell_type": "code",
   "execution_count": 271,
   "metadata": {
    "scrolled": true
   },
   "outputs": [],
   "source": [
    "# hum.unique() #hum also has nan"
   ]
  },
  {
   "cell_type": "code",
   "execution_count": 272,
   "metadata": {},
   "outputs": [],
   "source": [
    "# hum_mean=int(df['heatindexm'].mean(skipna=True))"
   ]
  },
  {
   "cell_type": "code",
   "execution_count": 273,
   "metadata": {},
   "outputs": [],
   "source": [
    "# hum_mean"
   ]
  },
  {
   "cell_type": "code",
   "execution_count": 274,
   "metadata": {},
   "outputs": [],
   "source": [
    "# df['hum'].fillna(hum_mean, inplace=True)"
   ]
  },
  {
   "cell_type": "code",
   "execution_count": 275,
   "metadata": {},
   "outputs": [],
   "source": [
    "# hum=df['hum']"
   ]
  },
  {
   "cell_type": "code",
   "execution_count": 276,
   "metadata": {},
   "outputs": [],
   "source": [
    "# hum.unique()"
   ]
  },
  {
   "cell_type": "code",
   "execution_count": 277,
   "metadata": {},
   "outputs": [
    {
     "data": {
      "text/html": [
       "<div>\n",
       "<style scoped>\n",
       "    .dataframe tbody tr th:only-of-type {\n",
       "        vertical-align: middle;\n",
       "    }\n",
       "\n",
       "    .dataframe tbody tr th {\n",
       "        vertical-align: top;\n",
       "    }\n",
       "\n",
       "    .dataframe thead th {\n",
       "        text-align: right;\n",
       "    }\n",
       "</style>\n",
       "<table border=\"1\" class=\"dataframe\">\n",
       "  <thead>\n",
       "    <tr style=\"text-align: right;\">\n",
       "      <th></th>\n",
       "      <th>conds</th>\n",
       "      <th>dewptm</th>\n",
       "      <th>fog</th>\n",
       "      <th>hail</th>\n",
       "      <th>heatindexm</th>\n",
       "      <th>hum</th>\n",
       "      <th>pressurem</th>\n",
       "      <th>rain</th>\n",
       "      <th>snow</th>\n",
       "      <th>tempm</th>\n",
       "      <th>thunder</th>\n",
       "      <th>tornado</th>\n",
       "      <th>vism</th>\n",
       "      <th>wdird</th>\n",
       "      <th>wdire</th>\n",
       "      <th>wgustm</th>\n",
       "      <th>windchillm</th>\n",
       "      <th>wspdm</th>\n",
       "    </tr>\n",
       "    <tr>\n",
       "      <th>datetime_utc</th>\n",
       "      <th></th>\n",
       "      <th></th>\n",
       "      <th></th>\n",
       "      <th></th>\n",
       "      <th></th>\n",
       "      <th></th>\n",
       "      <th></th>\n",
       "      <th></th>\n",
       "      <th></th>\n",
       "      <th></th>\n",
       "      <th></th>\n",
       "      <th></th>\n",
       "      <th></th>\n",
       "      <th></th>\n",
       "      <th></th>\n",
       "      <th></th>\n",
       "      <th></th>\n",
       "      <th></th>\n",
       "    </tr>\n",
       "  </thead>\n",
       "  <tbody>\n",
       "    <tr>\n",
       "      <th>1996-11-01 11:00:00</th>\n",
       "      <td>Smoke</td>\n",
       "      <td>9.0</td>\n",
       "      <td>0</td>\n",
       "      <td>0</td>\n",
       "      <td>NaN</td>\n",
       "      <td>27.0</td>\n",
       "      <td>1010.0</td>\n",
       "      <td>0</td>\n",
       "      <td>0</td>\n",
       "      <td>30.0</td>\n",
       "      <td>0</td>\n",
       "      <td>0</td>\n",
       "      <td>5.0</td>\n",
       "      <td>280.0</td>\n",
       "      <td>West</td>\n",
       "      <td>NaN</td>\n",
       "      <td>NaN</td>\n",
       "      <td>7.4</td>\n",
       "    </tr>\n",
       "    <tr>\n",
       "      <th>1996-11-01 12:00:00</th>\n",
       "      <td>Smoke</td>\n",
       "      <td>10.0</td>\n",
       "      <td>0</td>\n",
       "      <td>0</td>\n",
       "      <td>NaN</td>\n",
       "      <td>32.0</td>\n",
       "      <td>-9999.0</td>\n",
       "      <td>0</td>\n",
       "      <td>0</td>\n",
       "      <td>28.0</td>\n",
       "      <td>0</td>\n",
       "      <td>0</td>\n",
       "      <td>NaN</td>\n",
       "      <td>0.0</td>\n",
       "      <td>North</td>\n",
       "      <td>NaN</td>\n",
       "      <td>NaN</td>\n",
       "      <td>NaN</td>\n",
       "    </tr>\n",
       "    <tr>\n",
       "      <th>1996-11-01 13:00:00</th>\n",
       "      <td>Smoke</td>\n",
       "      <td>11.0</td>\n",
       "      <td>0</td>\n",
       "      <td>0</td>\n",
       "      <td>NaN</td>\n",
       "      <td>44.0</td>\n",
       "      <td>-9999.0</td>\n",
       "      <td>0</td>\n",
       "      <td>0</td>\n",
       "      <td>24.0</td>\n",
       "      <td>0</td>\n",
       "      <td>0</td>\n",
       "      <td>NaN</td>\n",
       "      <td>0.0</td>\n",
       "      <td>North</td>\n",
       "      <td>NaN</td>\n",
       "      <td>NaN</td>\n",
       "      <td>NaN</td>\n",
       "    </tr>\n",
       "    <tr>\n",
       "      <th>1996-11-01 14:00:00</th>\n",
       "      <td>Smoke</td>\n",
       "      <td>10.0</td>\n",
       "      <td>0</td>\n",
       "      <td>0</td>\n",
       "      <td>NaN</td>\n",
       "      <td>41.0</td>\n",
       "      <td>1010.0</td>\n",
       "      <td>0</td>\n",
       "      <td>0</td>\n",
       "      <td>24.0</td>\n",
       "      <td>0</td>\n",
       "      <td>0</td>\n",
       "      <td>2.0</td>\n",
       "      <td>0.0</td>\n",
       "      <td>North</td>\n",
       "      <td>NaN</td>\n",
       "      <td>NaN</td>\n",
       "      <td>NaN</td>\n",
       "    </tr>\n",
       "    <tr>\n",
       "      <th>1996-11-01 16:00:00</th>\n",
       "      <td>Smoke</td>\n",
       "      <td>11.0</td>\n",
       "      <td>0</td>\n",
       "      <td>0</td>\n",
       "      <td>NaN</td>\n",
       "      <td>47.0</td>\n",
       "      <td>1011.0</td>\n",
       "      <td>0</td>\n",
       "      <td>0</td>\n",
       "      <td>23.0</td>\n",
       "      <td>0</td>\n",
       "      <td>0</td>\n",
       "      <td>1.2</td>\n",
       "      <td>0.0</td>\n",
       "      <td>North</td>\n",
       "      <td>NaN</td>\n",
       "      <td>NaN</td>\n",
       "      <td>0.0</td>\n",
       "    </tr>\n",
       "  </tbody>\n",
       "</table>\n",
       "</div>"
      ],
      "text/plain": [
       "                     conds  dewptm  fog  hail  heatindexm   hum  pressurem  \\\n",
       "datetime_utc                                                                 \n",
       "1996-11-01 11:00:00  Smoke     9.0    0     0         NaN  27.0     1010.0   \n",
       "1996-11-01 12:00:00  Smoke    10.0    0     0         NaN  32.0    -9999.0   \n",
       "1996-11-01 13:00:00  Smoke    11.0    0     0         NaN  44.0    -9999.0   \n",
       "1996-11-01 14:00:00  Smoke    10.0    0     0         NaN  41.0     1010.0   \n",
       "1996-11-01 16:00:00  Smoke    11.0    0     0         NaN  47.0     1011.0   \n",
       "\n",
       "                     rain  snow  tempm  thunder  tornado  vism  wdird  wdire  \\\n",
       "datetime_utc                                                                   \n",
       "1996-11-01 11:00:00     0     0   30.0        0        0   5.0  280.0   West   \n",
       "1996-11-01 12:00:00     0     0   28.0        0        0   NaN    0.0  North   \n",
       "1996-11-01 13:00:00     0     0   24.0        0        0   NaN    0.0  North   \n",
       "1996-11-01 14:00:00     0     0   24.0        0        0   2.0    0.0  North   \n",
       "1996-11-01 16:00:00     0     0   23.0        0        0   1.2    0.0  North   \n",
       "\n",
       "                     wgustm  windchillm  wspdm  \n",
       "datetime_utc                                    \n",
       "1996-11-01 11:00:00     NaN         NaN    7.4  \n",
       "1996-11-01 12:00:00     NaN         NaN    NaN  \n",
       "1996-11-01 13:00:00     NaN         NaN    NaN  \n",
       "1996-11-01 14:00:00     NaN         NaN    NaN  \n",
       "1996-11-01 16:00:00     NaN         NaN    0.0  "
      ]
     },
     "execution_count": 277,
     "metadata": {},
     "output_type": "execute_result"
    }
   ],
   "source": [
    "df.head()"
   ]
  },
  {
   "cell_type": "code",
   "execution_count": 278,
   "metadata": {},
   "outputs": [
    {
     "data": {
      "text/plain": [
       "<matplotlib.axes._subplots.AxesSubplot at 0x2a61c776748>"
      ]
     },
     "execution_count": 278,
     "metadata": {},
     "output_type": "execute_result"
    },
    {
     "data": {
      "image/png": "[encoded data removed]",
      "text/plain": [
       "<Figure size 432x288 with 1 Axes>"
      ]
     },
     "metadata": {
      "needs_background": "light"
     },
     "output_type": "display_data"
    }
   ],
   "source": [
    "sns.boxplot(x=df['heatindexm'])"
   ]
  },
  {
   "cell_type": "code",
   "execution_count": 279,
   "metadata": {},
   "outputs": [],
   "source": [
    "df['heatindexm'] = df['heatindexm'].apply(lambda x: df['heatindexm'].mean() if not 30<x<50 else x)\n",
    "hum_mean=int(df['heatindexm'].mean(skipna=True))\n",
    "df['heatindexm'].fillna(hum_mean, inplace=True)"
   ]
  },
  {
   "cell_type": "code",
   "execution_count": 280,
   "metadata": {},
   "outputs": [
    {
     "data": {
      "text/plain": [
       "<matplotlib.axes._subplots.AxesSubplot at 0x2a61c779550>"
      ]
     },
     "execution_count": 280,
     "metadata": {},
     "output_type": "execute_result"
    },
    {
     "data": {
      "image/png": "[encoded data removed]",
      "text/plain": [
       "<Figure size 432x288 with 1 Axes>"
      ]
     },
     "metadata": {
      "needs_background": "light"
     },
     "output_type": "display_data"
    }
   ],
   "source": [
    "sns.boxplot(x=df['heatindexm'])"
   ]
  },
  {
   "cell_type": "code",
   "execution_count": 281,
   "metadata": {},
   "outputs": [
    {
     "data": {
      "text/plain": [
       "<matplotlib.axes._subplots.AxesSubplot at 0x2a61d53fcc0>"
      ]
     },
     "execution_count": 281,
     "metadata": {},
     "output_type": "execute_result"
    },
    {
     "data": {
      "image/png": "[encoded data removed]",
      "text/plain": [
       "<Figure size 432x288 with 1 Axes>"
      ]
     },
     "metadata": {
      "needs_background": "light"
     },
     "output_type": "display_data"
    }
   ],
   "source": [
    "sns.boxplot(x=df['hum'])"
   ]
  },
  {
   "cell_type": "code",
   "execution_count": 282,
   "metadata": {},
   "outputs": [],
   "source": [
    "df['hum'] = df['hum'].apply(lambda x: df['hum'].mean() if x>150 else x)\n",
    "hum_mean=int(df['hum'].mean(skipna=True))\n",
    "df['hum'].fillna(hum_mean, inplace=True)"
   ]
  },
  {
   "cell_type": "code",
   "execution_count": 283,
   "metadata": {},
   "outputs": [
    {
     "data": {
      "text/plain": [
       "<matplotlib.axes._subplots.AxesSubplot at 0x2a61cb066d8>"
      ]
     },
     "execution_count": 283,
     "metadata": {},
     "output_type": "execute_result"
    },
    {
     "data": {
      "image/png": "[encoded data removed]",
      "text/plain": [
       "<Figure size 432x288 with 1 Axes>"
      ]
     },
     "metadata": {
      "needs_background": "light"
     },
     "output_type": "display_data"
    }
   ],
   "source": [
    "sns.boxplot(x=df['hum'])"
   ]
  },
  {
   "cell_type": "code",
   "execution_count": 284,
   "metadata": {},
   "outputs": [],
   "source": [
    "pres=df['pressurem'].unique()"
   ]
  },
  {
   "cell_type": "code",
   "execution_count": 285,
   "metadata": {},
   "outputs": [
    {
     "data": {
      "text/plain": [
       "array([ 1.01000000e+03, -9.99900000e+03,  1.01100000e+03,  1.00900000e+03,\n",
       "        1.01200000e+03,  1.01300000e+03,  1.01400000e+03,  1.01500000e+03,\n",
       "        1.01600000e+03,  1.01800000e+03,  1.01700000e+03,  1.01900000e+03,\n",
       "        1.02000000e+03,  1.02100000e+03,  1.02200000e+03,  1.90000000e+01,\n",
       "        1.02300000e+03,  1.07900000e+03,  1.01240000e+04,  1.02400000e+03,\n",
       "        1.00800000e+03,  1.01000000e+02,  1.00700000e+03,  1.00600000e+03,\n",
       "        1.00500000e+03,  1.00000000e+01,  1.00400000e+03,  1.00780000e+04,\n",
       "        1.00300000e+03,  1.00200000e+03,  1.00100000e+03,  1.00000000e+03,\n",
       "        9.99000000e+02,  9.98000000e+02,  9.97000000e+02,  9.96000000e+02,\n",
       "        9.95000000e+02,  9.44000000e+02,  9.94000000e+02,  9.93000000e+02,\n",
       "        9.92000000e+02,  9.91000000e+02,  9.70000000e+01,  1.00000000e+02,\n",
       "        1.00450000e+04,  6.01800000e+03,  1.06500000e+03,  7.01600000e+03,\n",
       "        1.08000000e+03,  1.61600000e+03,  1.01980000e+04,  1.01200000e+04,\n",
       "        1.85500000e+03,  6.00600000e+03,  1.10090000e+04,  1.09980000e+04,\n",
       "        8.00000000e+01,  3.38600000e+02,  1.10800000e+03,  1.12000000e+03,\n",
       "        3.44000000e+02,  1.20000000e+01,  1.02200000e+04,  3.39600000e+02,\n",
       "        1.01061443e+08,  1.00020000e+04,  9.29000000e+02,  1.10050000e+04,\n",
       "        1.92100000e+03,  1.10200000e+04,  1.10140000e+04,  1.10150000e+04,\n",
       "        1.08800000e+03,  1.81000000e+03,  6.00000000e+00,  1.08600000e+03,\n",
       "        1.08300000e+03,  1.08400000e+03,  1.80100000e+03,  2.00000000e+00,\n",
       "        1.10500000e+03,  1.07000000e+03,  1.07400000e+03,  1.70000000e+01,\n",
       "        1.40000000e+01,  1.07300000e+03,  7.01800000e+03,  1.81900000e+03,\n",
       "        1.23000000e+02,  1.81200000e+03,  1.03000000e+02,  1.00090000e+04,\n",
       "        9.90000000e+02,  9.80000000e+01,  0.00000000e+00,  1.09990000e+04,\n",
       "        1.00080000e+04,  1.80600000e+03,  1.81100000e+03,  7.00800000e+03,\n",
       "        2.40000000e+01,  1.07700000e+03,  1.91400000e+03,  1.02500000e+03,\n",
       "        3.44400000e+02,  7.00000000e+00,  9.90000000e+01,  2.00200000e+03,\n",
       "        1.10010000e+04,  3.41300000e+02,  1.00110000e+04,  1.05000000e+02,\n",
       "        1.02110000e+04,  1.02000000e+02,  1.10190000e+04,  1.60000000e+01,\n",
       "        1.99100000e+03,  3.40300000e+02,  9.88000000e+02,             nan,\n",
       "        1.03300000e+03,  9.75000000e+02,  9.78000000e+02,  1.04000000e+02,\n",
       "        9.89000000e+02,  9.79000000e+02,  9.74000000e+02,  1.02600000e+03,\n",
       "        1.09900000e+03,  1.09800000e+03,  1.10000000e+03,  1.09500000e+03,\n",
       "        9.77000000e+02,  9.76000000e+02,  1.03100000e+03,  1.02700000e+03,\n",
       "        1.01014000e+05,  9.96300000e+03,  1.00650000e+04,  1.00180000e+04])"
      ]
     },
     "execution_count": 285,
     "metadata": {},
     "output_type": "execute_result"
    }
   ],
   "source": [
    "pres"
   ]
  },
  {
   "cell_type": "code",
   "execution_count": 286,
   "metadata": {},
   "outputs": [],
   "source": [
    "hum_mean=int(df['pressurem'].mean(skipna=True))\n",
    "df['pressurem'].fillna(hum_mean, inplace=True)"
   ]
  },
  {
   "cell_type": "code",
   "execution_count": 287,
   "metadata": {},
   "outputs": [],
   "source": [
    "rain=df['rain'].unique()"
   ]
  },
  {
   "cell_type": "code",
   "execution_count": 288,
   "metadata": {},
   "outputs": [
    {
     "data": {
      "text/plain": [
       "array([0, 1], dtype=int64)"
      ]
     },
     "execution_count": 288,
     "metadata": {},
     "output_type": "execute_result"
    }
   ],
   "source": [
    "rain"
   ]
  },
  {
   "cell_type": "code",
   "execution_count": 289,
   "metadata": {},
   "outputs": [],
   "source": [
    "snow=df['snow'].unique()"
   ]
  },
  {
   "cell_type": "code",
   "execution_count": 290,
   "metadata": {},
   "outputs": [
    {
     "data": {
      "text/plain": [
       "array([0, 1], dtype=int64)"
      ]
     },
     "execution_count": 290,
     "metadata": {},
     "output_type": "execute_result"
    }
   ],
   "source": [
    "snow"
   ]
  },
  {
   "cell_type": "code",
   "execution_count": 291,
   "metadata": {},
   "outputs": [],
   "source": [
    "temppm=df['tempm'].unique()"
   ]
  },
  {
   "cell_type": "code",
   "execution_count": 292,
   "metadata": {},
   "outputs": [
    {
     "data": {
      "text/plain": [
       "array([30., 28., 24., 23., 21., 19., 20., 22., 26., 31., 27., 25., 17.,\n",
       "       16., 29., 18., 15., nan, 14., 34., 13., 12., 11., 10.,  9.,  8.,\n",
       "        7.,  6.,  5.,  4., 32., 33., 35., 36., 37., 38., 39., 40., 42.,\n",
       "       41., 43.,  3., 44., 47., 45., 46., 72., 63.,  1., 62., 90.])"
      ]
     },
     "execution_count": 292,
     "metadata": {},
     "output_type": "execute_result"
    }
   ],
   "source": [
    "temppm"
   ]
  },
  {
   "cell_type": "code",
   "execution_count": 293,
   "metadata": {},
   "outputs": [
    {
     "data": {
      "text/plain": [
       "<matplotlib.axes._subplots.AxesSubplot at 0x2a61cb51a58>"
      ]
     },
     "execution_count": 293,
     "metadata": {},
     "output_type": "execute_result"
    },
    {
     "data": {
      "image/png": "[encoded data removed]",
      "text/plain": [
       "<Figure size 432x288 with 1 Axes>"
      ]
     },
     "metadata": {
      "needs_background": "light"
     },
     "output_type": "display_data"
    }
   ],
   "source": [
    "sns.boxplot(x=df['tempm'])"
   ]
  },
  {
   "cell_type": "code",
   "execution_count": 294,
   "metadata": {},
   "outputs": [],
   "source": [
    "df['temom'] = df['tempm'].apply(lambda x: df['tempm'].mean() if x>60 else x)\n",
    "hum_mean=int(df['tempm'].mean(skipna=True))\n",
    "df['tempm'].fillna(hum_mean, inplace=True)"
   ]
  },
  {
   "cell_type": "code",
   "execution_count": 295,
   "metadata": {},
   "outputs": [],
   "source": [
    "thunder=df['thunder'].unique()"
   ]
  },
  {
   "cell_type": "code",
   "execution_count": 296,
   "metadata": {},
   "outputs": [
    {
     "data": {
      "text/plain": [
       "array([0, 1], dtype=int64)"
      ]
     },
     "execution_count": 296,
     "metadata": {},
     "output_type": "execute_result"
    }
   ],
   "source": [
    "thunder"
   ]
  },
  {
   "cell_type": "code",
   "execution_count": 297,
   "metadata": {},
   "outputs": [
    {
     "data": {
      "text/html": [
       "<div>\n",
       "<style scoped>\n",
       "    .dataframe tbody tr th:only-of-type {\n",
       "        vertical-align: middle;\n",
       "    }\n",
       "\n",
       "    .dataframe tbody tr th {\n",
       "        vertical-align: top;\n",
       "    }\n",
       "\n",
       "    .dataframe thead th {\n",
       "        text-align: right;\n",
       "    }\n",
       "</style>\n",
       "<table border=\"1\" class=\"dataframe\">\n",
       "  <thead>\n",
       "    <tr style=\"text-align: right;\">\n",
       "      <th></th>\n",
       "      <th>conds</th>\n",
       "      <th>dewptm</th>\n",
       "      <th>fog</th>\n",
       "      <th>hail</th>\n",
       "      <th>heatindexm</th>\n",
       "      <th>hum</th>\n",
       "      <th>pressurem</th>\n",
       "      <th>rain</th>\n",
       "      <th>snow</th>\n",
       "      <th>tempm</th>\n",
       "      <th>thunder</th>\n",
       "      <th>tornado</th>\n",
       "      <th>vism</th>\n",
       "      <th>wdird</th>\n",
       "      <th>wdire</th>\n",
       "      <th>wgustm</th>\n",
       "      <th>windchillm</th>\n",
       "      <th>wspdm</th>\n",
       "      <th>temom</th>\n",
       "    </tr>\n",
       "    <tr>\n",
       "      <th>datetime_utc</th>\n",
       "      <th></th>\n",
       "      <th></th>\n",
       "      <th></th>\n",
       "      <th></th>\n",
       "      <th></th>\n",
       "      <th></th>\n",
       "      <th></th>\n",
       "      <th></th>\n",
       "      <th></th>\n",
       "      <th></th>\n",
       "      <th></th>\n",
       "      <th></th>\n",
       "      <th></th>\n",
       "      <th></th>\n",
       "      <th></th>\n",
       "      <th></th>\n",
       "      <th></th>\n",
       "      <th></th>\n",
       "      <th></th>\n",
       "    </tr>\n",
       "  </thead>\n",
       "  <tbody>\n",
       "    <tr>\n",
       "      <th>1996-11-01 11:00:00</th>\n",
       "      <td>Smoke</td>\n",
       "      <td>9.0</td>\n",
       "      <td>0</td>\n",
       "      <td>0</td>\n",
       "      <td>35.65171</td>\n",
       "      <td>27.0</td>\n",
       "      <td>1010.0</td>\n",
       "      <td>0</td>\n",
       "      <td>0</td>\n",
       "      <td>30.0</td>\n",
       "      <td>0</td>\n",
       "      <td>0</td>\n",
       "      <td>5.0</td>\n",
       "      <td>280.0</td>\n",
       "      <td>West</td>\n",
       "      <td>NaN</td>\n",
       "      <td>NaN</td>\n",
       "      <td>7.4</td>\n",
       "      <td>30.0</td>\n",
       "    </tr>\n",
       "    <tr>\n",
       "      <th>1996-11-01 12:00:00</th>\n",
       "      <td>Smoke</td>\n",
       "      <td>10.0</td>\n",
       "      <td>0</td>\n",
       "      <td>0</td>\n",
       "      <td>35.65171</td>\n",
       "      <td>32.0</td>\n",
       "      <td>-9999.0</td>\n",
       "      <td>0</td>\n",
       "      <td>0</td>\n",
       "      <td>28.0</td>\n",
       "      <td>0</td>\n",
       "      <td>0</td>\n",
       "      <td>NaN</td>\n",
       "      <td>0.0</td>\n",
       "      <td>North</td>\n",
       "      <td>NaN</td>\n",
       "      <td>NaN</td>\n",
       "      <td>NaN</td>\n",
       "      <td>28.0</td>\n",
       "    </tr>\n",
       "    <tr>\n",
       "      <th>1996-11-01 13:00:00</th>\n",
       "      <td>Smoke</td>\n",
       "      <td>11.0</td>\n",
       "      <td>0</td>\n",
       "      <td>0</td>\n",
       "      <td>35.65171</td>\n",
       "      <td>44.0</td>\n",
       "      <td>-9999.0</td>\n",
       "      <td>0</td>\n",
       "      <td>0</td>\n",
       "      <td>24.0</td>\n",
       "      <td>0</td>\n",
       "      <td>0</td>\n",
       "      <td>NaN</td>\n",
       "      <td>0.0</td>\n",
       "      <td>North</td>\n",
       "      <td>NaN</td>\n",
       "      <td>NaN</td>\n",
       "      <td>NaN</td>\n",
       "      <td>24.0</td>\n",
       "    </tr>\n",
       "    <tr>\n",
       "      <th>1996-11-01 14:00:00</th>\n",
       "      <td>Smoke</td>\n",
       "      <td>10.0</td>\n",
       "      <td>0</td>\n",
       "      <td>0</td>\n",
       "      <td>35.65171</td>\n",
       "      <td>41.0</td>\n",
       "      <td>1010.0</td>\n",
       "      <td>0</td>\n",
       "      <td>0</td>\n",
       "      <td>24.0</td>\n",
       "      <td>0</td>\n",
       "      <td>0</td>\n",
       "      <td>2.0</td>\n",
       "      <td>0.0</td>\n",
       "      <td>North</td>\n",
       "      <td>NaN</td>\n",
       "      <td>NaN</td>\n",
       "      <td>NaN</td>\n",
       "      <td>24.0</td>\n",
       "    </tr>\n",
       "    <tr>\n",
       "      <th>1996-11-01 16:00:00</th>\n",
       "      <td>Smoke</td>\n",
       "      <td>11.0</td>\n",
       "      <td>0</td>\n",
       "      <td>0</td>\n",
       "      <td>35.65171</td>\n",
       "      <td>47.0</td>\n",
       "      <td>1011.0</td>\n",
       "      <td>0</td>\n",
       "      <td>0</td>\n",
       "      <td>23.0</td>\n",
       "      <td>0</td>\n",
       "      <td>0</td>\n",
       "      <td>1.2</td>\n",
       "      <td>0.0</td>\n",
       "      <td>North</td>\n",
       "      <td>NaN</td>\n",
       "      <td>NaN</td>\n",
       "      <td>0.0</td>\n",
       "      <td>23.0</td>\n",
       "    </tr>\n",
       "  </tbody>\n",
       "</table>\n",
       "</div>"
      ],
      "text/plain": [
       "                     conds  dewptm  fog  hail  heatindexm   hum  pressurem  \\\n",
       "datetime_utc                                                                 \n",
       "1996-11-01 11:00:00  Smoke     9.0    0     0    35.65171  27.0     1010.0   \n",
       "1996-11-01 12:00:00  Smoke    10.0    0     0    35.65171  32.0    -9999.0   \n",
       "1996-11-01 13:00:00  Smoke    11.0    0     0    35.65171  44.0    -9999.0   \n",
       "1996-11-01 14:00:00  Smoke    10.0    0     0    35.65171  41.0     1010.0   \n",
       "1996-11-01 16:00:00  Smoke    11.0    0     0    35.65171  47.0     1011.0   \n",
       "\n",
       "                     rain  snow  tempm  thunder  tornado  vism  wdird  wdire  \\\n",
       "datetime_utc                                                                   \n",
       "1996-11-01 11:00:00     0     0   30.0        0        0   5.0  280.0   West   \n",
       "1996-11-01 12:00:00     0     0   28.0        0        0   NaN    0.0  North   \n",
       "1996-11-01 13:00:00     0     0   24.0        0        0   NaN    0.0  North   \n",
       "1996-11-01 14:00:00     0     0   24.0        0        0   2.0    0.0  North   \n",
       "1996-11-01 16:00:00     0     0   23.0        0        0   1.2    0.0  North   \n",
       "\n",
       "                     wgustm  windchillm  wspdm  temom  \n",
       "datetime_utc                                           \n",
       "1996-11-01 11:00:00     NaN         NaN    7.4   30.0  \n",
       "1996-11-01 12:00:00     NaN         NaN    NaN   28.0  \n",
       "1996-11-01 13:00:00     NaN         NaN    NaN   24.0  \n",
       "1996-11-01 14:00:00     NaN         NaN    NaN   24.0  \n",
       "1996-11-01 16:00:00     NaN         NaN    0.0   23.0  "
      ]
     },
     "execution_count": 297,
     "metadata": {},
     "output_type": "execute_result"
    }
   ],
   "source": [
    "df.head()"
   ]
  },
  {
   "cell_type": "code",
   "execution_count": 298,
   "metadata": {},
   "outputs": [],
   "source": [
    "tornado=df['tornado'].unique()"
   ]
  },
  {
   "cell_type": "code",
   "execution_count": 299,
   "metadata": {},
   "outputs": [
    {
     "data": {
      "text/plain": [
       "array([0, 1], dtype=int64)"
      ]
     },
     "execution_count": 299,
     "metadata": {},
     "output_type": "execute_result"
    }
   ],
   "source": [
    "tornado"
   ]
  },
  {
   "cell_type": "code",
   "execution_count": 300,
   "metadata": {},
   "outputs": [],
   "source": [
    "vism=df['vism'].unique()"
   ]
  },
  {
   "cell_type": "code",
   "execution_count": 301,
   "metadata": {},
   "outputs": [
    {
     "data": {
      "text/plain": [
       "array([5.000e+00,       nan, 2.000e+00, 1.200e+00, 8.000e-01, 3.500e+00,\n",
       "       4.500e+00, 6.000e+00, 7.000e+00, 3.000e+00, 1.100e+00, 1.400e+00,\n",
       "       1.800e+00, 2.500e+00, 2.200e+00, 1.600e+00, 1.500e+00, 9.000e-01,\n",
       "       2.800e+00, 4.000e+00, 1.300e+00, 1.000e+00, 1.700e+00, 2.400e+00,\n",
       "       8.000e+00, 5.000e-01, 7.000e-01, 2.600e+00, 6.000e-01, 4.000e-01,\n",
       "       3.000e-01, 2.000e-01, 1.000e-01, 0.000e+00, 1.900e+00, 5.500e+00,\n",
       "       2.900e+00, 2.700e+00, 2.300e+00, 9.000e+00, 1.000e+01, 2.100e+00,\n",
       "       6.436e+03, 5.000e-02, 2.000e-02, 1.800e+01, 5.000e+01, 6.000e+01,\n",
       "       5.500e+01])"
      ]
     },
     "execution_count": 301,
     "metadata": {},
     "output_type": "execute_result"
    }
   ],
   "source": [
    "vism"
   ]
  },
  {
   "cell_type": "code",
   "execution_count": 302,
   "metadata": {},
   "outputs": [
    {
     "data": {
      "text/plain": [
       "<matplotlib.axes._subplots.AxesSubplot at 0x2a61c98da58>"
      ]
     },
     "execution_count": 302,
     "metadata": {},
     "output_type": "execute_result"
    },
    {
     "data": {
      "image/png": "[encoded data removed]",
      "text/plain": [
       "<Figure size 432x288 with 1 Axes>"
      ]
     },
     "metadata": {
      "needs_background": "light"
     },
     "output_type": "display_data"
    }
   ],
   "source": [
    "sns.boxplot(x=df['vism'])"
   ]
  },
  {
   "cell_type": "code",
   "execution_count": 303,
   "metadata": {},
   "outputs": [],
   "source": [
    "df['vism'] = df['vism'].apply(lambda x: df['vism'].mean() if x>20 else x)\n",
    "hum_mean=int(df['vism'].mean(skipna=True))\n",
    "df['vism'].fillna(hum_mean, inplace=True)"
   ]
  },
  {
   "cell_type": "code",
   "execution_count": 304,
   "metadata": {},
   "outputs": [],
   "source": [
    "wbird=df['wdird'].unique()"
   ]
  },
  {
   "cell_type": "code",
   "execution_count": 305,
   "metadata": {},
   "outputs": [
    {
     "data": {
      "text/plain": [
       "array([280.,   0., 200., 240., 250., 260., 270.,  20., 220., 230., 210.,\n",
       "       290., 300., 310., 150.,  90., 100.,  70.,  80., 110., 140., 120.,\n",
       "        60., 130.,  50.,  10., 320., 330., 340., 360., 170.,  23., 180.,\n",
       "       190., 160.,  40.,  30.,  56., 350., 234., 261., 620., 288., 301.,\n",
       "       380., 238., 319., 208.,   8., 333., 390., 128., 178., 860., 202.,\n",
       "       249., 299., 227., 161., 960., 959.,   6.,  nan,  16.])"
      ]
     },
     "execution_count": 305,
     "metadata": {},
     "output_type": "execute_result"
    }
   ],
   "source": [
    "wbird"
   ]
  },
  {
   "cell_type": "code",
   "execution_count": 311,
   "metadata": {},
   "outputs": [
    {
     "data": {
      "text/plain": [
       "<matplotlib.axes._subplots.AxesSubplot at 0x2a61c9d9780>"
      ]
     },
     "execution_count": 311,
     "metadata": {},
     "output_type": "execute_result"
    },
    {
     "data": {
      "image/png": "[encoded data removed]",
      "text/plain": [
       "<Figure size 432x288 with 1 Axes>"
      ]
     },
     "metadata": {
      "needs_background": "light"
     },
     "output_type": "display_data"
    }
   ],
   "source": [
    "sns.boxplot(x=df['wdird'])"
   ]
  },
  {
   "cell_type": "code",
   "execution_count": 312,
   "metadata": {},
   "outputs": [],
   "source": [
    "df['wdird'] = df['wdird'].apply(lambda x: df['wdird'].mean() if x>600 else x)\n",
    "hum_mean=int(df['wdird'].mean(skipna=True))\n",
    "df['wdird'].fillna(hum_mean, inplace=True)"
   ]
  },
  {
   "cell_type": "code",
   "execution_count": 313,
   "metadata": {},
   "outputs": [],
   "source": [
    "wdir=df['wdire'].unique()"
   ]
  },
  {
   "cell_type": "code",
   "execution_count": 314,
   "metadata": {},
   "outputs": [
    {
     "data": {
      "text/plain": [
       "array(['West', 'North', 'SSW', 'WSW', 'NNE', 'SW', 'WNW', 'NW', 'SSE',\n",
       "       'East', 'ENE', 'ESE', 'SE', 'NE', 'NNW', 'South', 'Variable', nan],\n",
       "      dtype=object)"
      ]
     },
     "execution_count": 314,
     "metadata": {},
     "output_type": "execute_result"
    }
   ],
   "source": [
    "wdir"
   ]
  },
  {
   "cell_type": "code",
   "execution_count": 315,
   "metadata": {},
   "outputs": [],
   "source": [
    "#remove row in which direction is nan\n",
    "df = df[pd.notnull(df['wdire'])]"
   ]
  },
  {
   "cell_type": "code",
   "execution_count": 316,
   "metadata": {},
   "outputs": [],
   "source": [
    "wdire=df['wdire'].unique()"
   ]
  },
  {
   "cell_type": "code",
   "execution_count": 317,
   "metadata": {},
   "outputs": [
    {
     "data": {
      "text/plain": [
       "array(['West', 'North', 'SSW', 'WSW', 'NNE', 'SW', 'WNW', 'NW', 'SSE',\n",
       "       'East', 'ENE', 'ESE', 'SE', 'NE', 'NNW', 'South', 'Variable'],\n",
       "      dtype=object)"
      ]
     },
     "execution_count": 317,
     "metadata": {},
     "output_type": "execute_result"
    }
   ],
   "source": [
    "wdire"
   ]
  },
  {
   "cell_type": "code",
   "execution_count": 318,
   "metadata": {},
   "outputs": [],
   "source": [
    "wgustm=df['wgustm'].unique()"
   ]
  },
  {
   "cell_type": "code",
   "execution_count": 319,
   "metadata": {},
   "outputs": [
    {
     "data": {
      "text/plain": [
       "array([ nan, 50. , 31.5, 27.8, 37. , 40.7, 44.4, 33.3, 46.3, 35.2, 51.9,\n",
       "       55.6, 29.6, 59.3, 64.8, 74.1, 25.9, 48.2, 42.6, 38.9, 83.3, 92.6,\n",
       "       63. ])"
      ]
     },
     "execution_count": 319,
     "metadata": {},
     "output_type": "execute_result"
    }
   ],
   "source": [
    "wgustm"
   ]
  },
  {
   "cell_type": "code",
   "execution_count": 320,
   "metadata": {},
   "outputs": [],
   "source": [
    "hum_mean=int(df['wgustm'].mean(skipna=True))\n",
    "df['wgustm'].fillna(hum_mean, inplace=True)"
   ]
  },
  {
   "cell_type": "code",
   "execution_count": 321,
   "metadata": {},
   "outputs": [],
   "source": [
    "windchillm=df['windchillm'].unique()"
   ]
  },
  {
   "cell_type": "code",
   "execution_count": 322,
   "metadata": {},
   "outputs": [
    {
     "data": {
      "text/plain": [
       "array([nan, 6.2, 3.9, 4. , 6.4, 5.7, 5.2, 3.3, 2.1, 3.7, 4.5, 6.1, 7.3,\n",
       "       5. , 6.8, 5.3, 4.9, 5.8, 5.5, 4.3, 2.8])"
      ]
     },
     "execution_count": 322,
     "metadata": {},
     "output_type": "execute_result"
    }
   ],
   "source": [
    "windchillm"
   ]
  },
  {
   "cell_type": "code",
   "execution_count": 323,
   "metadata": {},
   "outputs": [],
   "source": [
    "hum_mean=int(df['windchillm'].mean(skipna=True))\n",
    "df['windchillm'].fillna(hum_mean, inplace=True)"
   ]
  },
  {
   "cell_type": "code",
   "execution_count": 324,
   "metadata": {},
   "outputs": [],
   "source": [
    "wspdm=df['wspdm'].unique()"
   ]
  },
  {
   "cell_type": "code",
   "execution_count": 325,
   "metadata": {},
   "outputs": [
    {
     "data": {
      "text/plain": [
       "array([   7.4,    nan,    0. ,    9.3,   20.4,   13. ,   16.7,   22.2,\n",
       "         18.5,   14.8,    5.6,   24.1,   11.1,    3.7,   27.8,   33.3,\n",
       "         29.6,   25.9,   40.7,   37. ,   31.5,    1.9,   35.2,   46.3,\n",
       "       1514.9,   55.6,   44.4,   61.1,   48.2,   83.3,  100. ,  268.5,\n",
       "        103.7,  111.1,  999.9,  159.3,   81.5,   51.9,  124.1,  105.6,\n",
       "        153.7,  148.2,  163. ,   64.8,   63. ,   59.3,   42.6,  107.4,\n",
       "       1492.7,  181.5,  172.2,  248.2,   74.1,   72.2,  133.3,  122.2,\n",
       "        129.6,  175.9,  151.9,  179.6,   92.6,  101.9,  177.8,   66.7,\n",
       "         10.8,  140.8,   70.4,  137. ,  144.5,   50. ,  125.9,  114.8,\n",
       "         21.6,   18. ,   14.4,    7.2,   77.8,   28.8,  118.5,  174.1,\n",
       "         96.3,   85.2,   38.9,   68.5,  188.9,  192.6,  205.6])"
      ]
     },
     "execution_count": 325,
     "metadata": {},
     "output_type": "execute_result"
    }
   ],
   "source": [
    "wspdm"
   ]
  },
  {
   "cell_type": "code",
   "execution_count": 326,
   "metadata": {},
   "outputs": [],
   "source": [
    "hum_mean=int(df['wspdm'].mean(skipna=True))\n",
    "df['wspdm'].fillna(hum_mean, inplace=True)"
   ]
  },
  {
   "cell_type": "code",
   "execution_count": 327,
   "metadata": {},
   "outputs": [],
   "source": [
    "temom=df['temom'].unique()"
   ]
  },
  {
   "cell_type": "code",
   "execution_count": 328,
   "metadata": {},
   "outputs": [
    {
     "data": {
      "text/plain": [
       "array([30.        , 28.        , 24.        , 23.        , 21.        ,\n",
       "       19.        , 20.        , 22.        , 26.        , 31.        ,\n",
       "       27.        , 25.        , 17.        , 16.        , 29.        ,\n",
       "       18.        , 15.        ,         nan, 14.        , 34.        ,\n",
       "       13.        , 12.        , 11.        , 10.        ,  9.        ,\n",
       "        8.        ,  7.        ,  6.        ,  5.        ,  4.        ,\n",
       "       32.        , 33.        , 35.        , 36.        , 37.        ,\n",
       "       38.        , 39.        , 40.        , 42.        , 41.        ,\n",
       "       43.        ,  3.        , 44.        , 47.        , 45.        ,\n",
       "       46.        , 25.45126948])"
      ]
     },
     "execution_count": 328,
     "metadata": {},
     "output_type": "execute_result"
    }
   ],
   "source": [
    "temom"
   ]
  },
  {
   "cell_type": "code",
   "execution_count": 329,
   "metadata": {},
   "outputs": [],
   "source": [
    "hum_mean=int(df['temom'].mean(skipna=True))\n",
    "df['temom'].fillna(hum_mean, inplace=True)"
   ]
  },
  {
   "cell_type": "code",
   "execution_count": 330,
   "metadata": {},
   "outputs": [],
   "source": [
    "df['month'] = df.index.month"
   ]
  },
  {
   "cell_type": "code",
   "execution_count": 331,
   "metadata": {},
   "outputs": [],
   "source": [
    "# plt.plot(x=df['month'],y=df['rain'])\n",
    "%matplotlib inline"
   ]
  },
  {
   "cell_type": "code",
   "execution_count": 332,
   "metadata": {},
   "outputs": [
    {
     "data": {
      "text/plain": [
       "Index(['conds', 'dewptm', 'fog', 'hail', 'heatindexm', 'hum', 'pressurem',\n",
       "       'rain', 'snow', 'tempm', 'thunder', 'tornado', 'vism', 'wdird', 'wdire',\n",
       "       'wgustm', 'windchillm', 'wspdm', 'temom', 'month'],\n",
       "      dtype='object')"
      ]
     },
     "execution_count": 332,
     "metadata": {},
     "output_type": "execute_result"
    }
   ],
   "source": [
    "df.columns"
   ]
  },
  {
   "cell_type": "code",
   "execution_count": 333,
   "metadata": {},
   "outputs": [],
   "source": [
    "x=df['snow']"
   ]
  },
  {
   "cell_type": "code",
   "execution_count": 334,
   "metadata": {},
   "outputs": [],
   "source": [
    "y=df['month']"
   ]
  },
  {
   "cell_type": "code",
   "execution_count": 335,
   "metadata": {},
   "outputs": [
    {
     "data": {
      "text/plain": [
       "Text(0.5, 1.0, 'Snow')"
      ]
     },
     "execution_count": 335,
     "metadata": {},
     "output_type": "execute_result"
    },
    {
     "data": {
      "image/png": "[encoded data removed]",
      "text/plain": [
       "<Figure size 432x288 with 1 Axes>"
      ]
     },
     "metadata": {
      "needs_background": "light"
     },
     "output_type": "display_data"
    }
   ],
   "source": [
    "plt.plot(x,y)\n",
    "plt.title('Snow')"
   ]
  },
  {
   "cell_type": "code",
   "execution_count": 336,
   "metadata": {},
   "outputs": [
    {
     "data": {
      "text/plain": [
       "Text(0.5, 1.0, 'rain')"
      ]
     },
     "execution_count": 336,
     "metadata": {},
     "output_type": "execute_result"
    },
    {
     "data": {
      "image/png": "[encoded data removed]",
      "text/plain": [
       "<Figure size 432x288 with 1 Axes>"
      ]
     },
     "metadata": {
      "needs_background": "light"
     },
     "output_type": "display_data"
    }
   ],
   "source": [
    "y=df['rain']\n",
    "x=df['month']\n",
    "plt.plot(x,y)\n",
    "plt.title('rain')"
   ]
  },
  {
   "cell_type": "code",
   "execution_count": 337,
   "metadata": {},
   "outputs": [
    {
     "data": {
      "text/plain": [
       "Text(0.5, 1.0, 'dweptm')"
      ]
     },
     "execution_count": 337,
     "metadata": {},
     "output_type": "execute_result"
    },
    {
     "data": {
      "image/png": "[encoded data removed]",
      "text/plain": [
       "<Figure size 432x288 with 1 Axes>"
      ]
     },
     "metadata": {
      "needs_background": "light"
     },
     "output_type": "display_data"
    }
   ],
   "source": [
    "y=df['dewptm']\n",
    "x=df['month']\n",
    "plt.plot(x,y)\n",
    "plt.title('dweptm')"
   ]
  },
  {
   "cell_type": "code",
   "execution_count": 338,
   "metadata": {},
   "outputs": [
    {
     "data": {
      "text/plain": [
       "Text(0.5, 1.0, 'hum')"
      ]
     },
     "execution_count": 338,
     "metadata": {},
     "output_type": "execute_result"
    },
    {
     "data": {
      "image/png": "[encoded data removed]",
      "text/plain": [
       "<Figure size 432x288 with 1 Axes>"
      ]
     },
     "metadata": {
      "needs_background": "light"
     },
     "output_type": "display_data"
    }
   ],
   "source": [
    "y=df['hum']\n",
    "x=df['month']\n",
    "plt.plot(x,y)\n",
    "plt.title('hum')"
   ]
  },
  {
   "cell_type": "code",
   "execution_count": 239,
   "metadata": {},
   "outputs": [
    {
     "data": {
      "image/png": "[encoded data removed]",
      "text/plain": [
       "<Figure size 432x288 with 1 Axes>"
      ]
     },
     "metadata": {},
     "output_type": "display_data"
    }
   ],
   "source": [
    "labels = ['Cookies', 'Jellybean', 'Milkshake', 'Cheesecake']\n",
    "sizes = [38.4, 40.6, 20.7, 10.3]\n",
    "colors = ['yellowgreen', 'gold', 'lightskyblue', 'lightcoral']\n",
    "patches, texts = plt.pie(sizes, colors=colors, shadow=True, startangle=90)\n",
    "plt.legend(patches, labels, loc=\"best\")\n",
    "plt.axis('equal')\n",
    "plt.tight_layout()\n",
    "plt.show()"
   ]
  },
  {
   "cell_type": "code",
   "execution_count": 339,
   "metadata": {},
   "outputs": [],
   "source": [
    "month=df['month'].unique()"
   ]
  },
  {
   "cell_type": "code",
   "execution_count": 364,
   "metadata": {},
   "outputs": [],
   "source": [
    "grp=df.groupby('month')"
   ]
  },
  {
   "cell_type": "code",
   "execution_count": 365,
   "metadata": {},
   "outputs": [
    {
     "data": {
      "text/plain": [
       "array([11, 12,  1,  2,  3,  4,  5,  6,  7,  8,  9, 10], dtype=int64)"
      ]
     },
     "execution_count": 365,
     "metadata": {},
     "output_type": "execute_result"
    }
   ],
   "source": [
    "month"
   ]
  },
  {
   "cell_type": "code",
   "execution_count": 341,
   "metadata": {},
   "outputs": [],
   "source": [
    "df_month=grp.get_group(month[0])"
   ]
  },
  {
   "cell_type": "code",
   "execution_count": 342,
   "metadata": {},
   "outputs": [
    {
     "data": {
      "text/html": [
       "<div>\n",
       "<style scoped>\n",
       "    .dataframe tbody tr th:only-of-type {\n",
       "        vertical-align: middle;\n",
       "    }\n",
       "\n",
       "    .dataframe tbody tr th {\n",
       "        vertical-align: top;\n",
       "    }\n",
       "\n",
       "    .dataframe thead th {\n",
       "        text-align: right;\n",
       "    }\n",
       "</style>\n",
       "<table border=\"1\" class=\"dataframe\">\n",
       "  <thead>\n",
       "    <tr style=\"text-align: right;\">\n",
       "      <th></th>\n",
       "      <th>conds</th>\n",
       "      <th>dewptm</th>\n",
       "      <th>fog</th>\n",
       "      <th>hail</th>\n",
       "      <th>heatindexm</th>\n",
       "      <th>hum</th>\n",
       "      <th>pressurem</th>\n",
       "      <th>rain</th>\n",
       "      <th>snow</th>\n",
       "      <th>tempm</th>\n",
       "      <th>thunder</th>\n",
       "      <th>tornado</th>\n",
       "      <th>vism</th>\n",
       "      <th>wdird</th>\n",
       "      <th>wdire</th>\n",
       "      <th>wgustm</th>\n",
       "      <th>windchillm</th>\n",
       "      <th>wspdm</th>\n",
       "      <th>temom</th>\n",
       "      <th>month</th>\n",
       "    </tr>\n",
       "    <tr>\n",
       "      <th>datetime_utc</th>\n",
       "      <th></th>\n",
       "      <th></th>\n",
       "      <th></th>\n",
       "      <th></th>\n",
       "      <th></th>\n",
       "      <th></th>\n",
       "      <th></th>\n",
       "      <th></th>\n",
       "      <th></th>\n",
       "      <th></th>\n",
       "      <th></th>\n",
       "      <th></th>\n",
       "      <th></th>\n",
       "      <th></th>\n",
       "      <th></th>\n",
       "      <th></th>\n",
       "      <th></th>\n",
       "      <th></th>\n",
       "      <th></th>\n",
       "      <th></th>\n",
       "    </tr>\n",
       "  </thead>\n",
       "  <tbody>\n",
       "    <tr>\n",
       "      <th>1996-11-01 11:00:00</th>\n",
       "      <td>Smoke</td>\n",
       "      <td>9.0</td>\n",
       "      <td>0</td>\n",
       "      <td>0</td>\n",
       "      <td>35.65171</td>\n",
       "      <td>27.0</td>\n",
       "      <td>1010.0</td>\n",
       "      <td>0</td>\n",
       "      <td>0</td>\n",
       "      <td>30.0</td>\n",
       "      <td>0</td>\n",
       "      <td>0</td>\n",
       "      <td>5.0</td>\n",
       "      <td>280.0</td>\n",
       "      <td>West</td>\n",
       "      <td>37.0</td>\n",
       "      <td>5.0</td>\n",
       "      <td>7.4</td>\n",
       "      <td>30.0</td>\n",
       "      <td>11</td>\n",
       "    </tr>\n",
       "    <tr>\n",
       "      <th>1996-11-01 12:00:00</th>\n",
       "      <td>Smoke</td>\n",
       "      <td>10.0</td>\n",
       "      <td>0</td>\n",
       "      <td>0</td>\n",
       "      <td>35.65171</td>\n",
       "      <td>32.0</td>\n",
       "      <td>-9999.0</td>\n",
       "      <td>0</td>\n",
       "      <td>0</td>\n",
       "      <td>28.0</td>\n",
       "      <td>0</td>\n",
       "      <td>0</td>\n",
       "      <td>2.0</td>\n",
       "      <td>0.0</td>\n",
       "      <td>North</td>\n",
       "      <td>37.0</td>\n",
       "      <td>5.0</td>\n",
       "      <td>9.0</td>\n",
       "      <td>28.0</td>\n",
       "      <td>11</td>\n",
       "    </tr>\n",
       "    <tr>\n",
       "      <th>1996-11-01 13:00:00</th>\n",
       "      <td>Smoke</td>\n",
       "      <td>11.0</td>\n",
       "      <td>0</td>\n",
       "      <td>0</td>\n",
       "      <td>35.65171</td>\n",
       "      <td>44.0</td>\n",
       "      <td>-9999.0</td>\n",
       "      <td>0</td>\n",
       "      <td>0</td>\n",
       "      <td>24.0</td>\n",
       "      <td>0</td>\n",
       "      <td>0</td>\n",
       "      <td>2.0</td>\n",
       "      <td>0.0</td>\n",
       "      <td>North</td>\n",
       "      <td>37.0</td>\n",
       "      <td>5.0</td>\n",
       "      <td>9.0</td>\n",
       "      <td>24.0</td>\n",
       "      <td>11</td>\n",
       "    </tr>\n",
       "    <tr>\n",
       "      <th>1996-11-01 14:00:00</th>\n",
       "      <td>Smoke</td>\n",
       "      <td>10.0</td>\n",
       "      <td>0</td>\n",
       "      <td>0</td>\n",
       "      <td>35.65171</td>\n",
       "      <td>41.0</td>\n",
       "      <td>1010.0</td>\n",
       "      <td>0</td>\n",
       "      <td>0</td>\n",
       "      <td>24.0</td>\n",
       "      <td>0</td>\n",
       "      <td>0</td>\n",
       "      <td>2.0</td>\n",
       "      <td>0.0</td>\n",
       "      <td>North</td>\n",
       "      <td>37.0</td>\n",
       "      <td>5.0</td>\n",
       "      <td>9.0</td>\n",
       "      <td>24.0</td>\n",
       "      <td>11</td>\n",
       "    </tr>\n",
       "    <tr>\n",
       "      <th>1996-11-01 16:00:00</th>\n",
       "      <td>Smoke</td>\n",
       "      <td>11.0</td>\n",
       "      <td>0</td>\n",
       "      <td>0</td>\n",
       "      <td>35.65171</td>\n",
       "      <td>47.0</td>\n",
       "      <td>1011.0</td>\n",
       "      <td>0</td>\n",
       "      <td>0</td>\n",
       "      <td>23.0</td>\n",
       "      <td>0</td>\n",
       "      <td>0</td>\n",
       "      <td>1.2</td>\n",
       "      <td>0.0</td>\n",
       "      <td>North</td>\n",
       "      <td>37.0</td>\n",
       "      <td>5.0</td>\n",
       "      <td>0.0</td>\n",
       "      <td>23.0</td>\n",
       "      <td>11</td>\n",
       "    </tr>\n",
       "    <tr>\n",
       "      <th>1996-11-01 17:00:00</th>\n",
       "      <td>Smoke</td>\n",
       "      <td>12.0</td>\n",
       "      <td>0</td>\n",
       "      <td>0</td>\n",
       "      <td>35.65171</td>\n",
       "      <td>56.0</td>\n",
       "      <td>1011.0</td>\n",
       "      <td>0</td>\n",
       "      <td>0</td>\n",
       "      <td>21.0</td>\n",
       "      <td>0</td>\n",
       "      <td>0</td>\n",
       "      <td>2.0</td>\n",
       "      <td>0.0</td>\n",
       "      <td>North</td>\n",
       "      <td>37.0</td>\n",
       "      <td>5.0</td>\n",
       "      <td>9.0</td>\n",
       "      <td>21.0</td>\n",
       "      <td>11</td>\n",
       "    </tr>\n",
       "    <tr>\n",
       "      <th>1996-11-01 18:00:00</th>\n",
       "      <td>Smoke</td>\n",
       "      <td>13.0</td>\n",
       "      <td>0</td>\n",
       "      <td>0</td>\n",
       "      <td>35.65171</td>\n",
       "      <td>60.0</td>\n",
       "      <td>1010.0</td>\n",
       "      <td>0</td>\n",
       "      <td>0</td>\n",
       "      <td>21.0</td>\n",
       "      <td>0</td>\n",
       "      <td>0</td>\n",
       "      <td>0.8</td>\n",
       "      <td>0.0</td>\n",
       "      <td>North</td>\n",
       "      <td>37.0</td>\n",
       "      <td>5.0</td>\n",
       "      <td>0.0</td>\n",
       "      <td>21.0</td>\n",
       "      <td>11</td>\n",
       "    </tr>\n",
       "    <tr>\n",
       "      <th>1996-11-01 19:00:00</th>\n",
       "      <td>Smoke</td>\n",
       "      <td>13.0</td>\n",
       "      <td>0</td>\n",
       "      <td>0</td>\n",
       "      <td>35.65171</td>\n",
       "      <td>60.0</td>\n",
       "      <td>-9999.0</td>\n",
       "      <td>0</td>\n",
       "      <td>0</td>\n",
       "      <td>21.0</td>\n",
       "      <td>0</td>\n",
       "      <td>0</td>\n",
       "      <td>2.0</td>\n",
       "      <td>0.0</td>\n",
       "      <td>North</td>\n",
       "      <td>37.0</td>\n",
       "      <td>5.0</td>\n",
       "      <td>9.0</td>\n",
       "      <td>21.0</td>\n",
       "      <td>11</td>\n",
       "    </tr>\n",
       "    <tr>\n",
       "      <th>1996-11-01 20:00:00</th>\n",
       "      <td>Smoke</td>\n",
       "      <td>13.0</td>\n",
       "      <td>0</td>\n",
       "      <td>0</td>\n",
       "      <td>35.65171</td>\n",
       "      <td>68.0</td>\n",
       "      <td>-9999.0</td>\n",
       "      <td>0</td>\n",
       "      <td>0</td>\n",
       "      <td>19.0</td>\n",
       "      <td>0</td>\n",
       "      <td>0</td>\n",
       "      <td>2.0</td>\n",
       "      <td>0.0</td>\n",
       "      <td>North</td>\n",
       "      <td>37.0</td>\n",
       "      <td>5.0</td>\n",
       "      <td>9.0</td>\n",
       "      <td>19.0</td>\n",
       "      <td>11</td>\n",
       "    </tr>\n",
       "    <tr>\n",
       "      <th>1996-11-01 21:00:00</th>\n",
       "      <td>Smoke</td>\n",
       "      <td>13.0</td>\n",
       "      <td>0</td>\n",
       "      <td>0</td>\n",
       "      <td>35.65171</td>\n",
       "      <td>68.0</td>\n",
       "      <td>1010.0</td>\n",
       "      <td>0</td>\n",
       "      <td>0</td>\n",
       "      <td>19.0</td>\n",
       "      <td>0</td>\n",
       "      <td>0</td>\n",
       "      <td>2.0</td>\n",
       "      <td>0.0</td>\n",
       "      <td>North</td>\n",
       "      <td>37.0</td>\n",
       "      <td>5.0</td>\n",
       "      <td>9.0</td>\n",
       "      <td>19.0</td>\n",
       "      <td>11</td>\n",
       "    </tr>\n",
       "    <tr>\n",
       "      <th>1996-11-01 22:00:00</th>\n",
       "      <td>Smoke</td>\n",
       "      <td>13.0</td>\n",
       "      <td>0</td>\n",
       "      <td>0</td>\n",
       "      <td>35.65171</td>\n",
       "      <td>68.0</td>\n",
       "      <td>1009.0</td>\n",
       "      <td>0</td>\n",
       "      <td>0</td>\n",
       "      <td>19.0</td>\n",
       "      <td>0</td>\n",
       "      <td>0</td>\n",
       "      <td>2.0</td>\n",
       "      <td>0.0</td>\n",
       "      <td>North</td>\n",
       "      <td>37.0</td>\n",
       "      <td>5.0</td>\n",
       "      <td>9.0</td>\n",
       "      <td>19.0</td>\n",
       "      <td>11</td>\n",
       "    </tr>\n",
       "    <tr>\n",
       "      <th>1996-11-01 23:00:00</th>\n",
       "      <td>Smoke</td>\n",
       "      <td>12.0</td>\n",
       "      <td>0</td>\n",
       "      <td>0</td>\n",
       "      <td>35.65171</td>\n",
       "      <td>64.0</td>\n",
       "      <td>1009.0</td>\n",
       "      <td>0</td>\n",
       "      <td>0</td>\n",
       "      <td>19.0</td>\n",
       "      <td>0</td>\n",
       "      <td>0</td>\n",
       "      <td>2.0</td>\n",
       "      <td>0.0</td>\n",
       "      <td>North</td>\n",
       "      <td>37.0</td>\n",
       "      <td>5.0</td>\n",
       "      <td>9.0</td>\n",
       "      <td>19.0</td>\n",
       "      <td>11</td>\n",
       "    </tr>\n",
       "    <tr>\n",
       "      <th>1996-11-02 00:00:00</th>\n",
       "      <td>Smoke</td>\n",
       "      <td>11.0</td>\n",
       "      <td>0</td>\n",
       "      <td>0</td>\n",
       "      <td>35.65171</td>\n",
       "      <td>60.0</td>\n",
       "      <td>1010.0</td>\n",
       "      <td>0</td>\n",
       "      <td>0</td>\n",
       "      <td>19.0</td>\n",
       "      <td>0</td>\n",
       "      <td>0</td>\n",
       "      <td>2.0</td>\n",
       "      <td>0.0</td>\n",
       "      <td>North</td>\n",
       "      <td>37.0</td>\n",
       "      <td>5.0</td>\n",
       "      <td>9.0</td>\n",
       "      <td>19.0</td>\n",
       "      <td>11</td>\n",
       "    </tr>\n",
       "    <tr>\n",
       "      <th>1996-11-02 01:00:00</th>\n",
       "      <td>Smoke</td>\n",
       "      <td>11.0</td>\n",
       "      <td>0</td>\n",
       "      <td>0</td>\n",
       "      <td>35.65171</td>\n",
       "      <td>60.0</td>\n",
       "      <td>1010.0</td>\n",
       "      <td>0</td>\n",
       "      <td>0</td>\n",
       "      <td>19.0</td>\n",
       "      <td>0</td>\n",
       "      <td>0</td>\n",
       "      <td>2.0</td>\n",
       "      <td>0.0</td>\n",
       "      <td>North</td>\n",
       "      <td>37.0</td>\n",
       "      <td>5.0</td>\n",
       "      <td>9.0</td>\n",
       "      <td>19.0</td>\n",
       "      <td>11</td>\n",
       "    </tr>\n",
       "    <tr>\n",
       "      <th>1996-11-02 02:00:00</th>\n",
       "      <td>Smoke</td>\n",
       "      <td>10.0</td>\n",
       "      <td>0</td>\n",
       "      <td>0</td>\n",
       "      <td>35.65171</td>\n",
       "      <td>52.0</td>\n",
       "      <td>1011.0</td>\n",
       "      <td>0</td>\n",
       "      <td>0</td>\n",
       "      <td>20.0</td>\n",
       "      <td>0</td>\n",
       "      <td>0</td>\n",
       "      <td>2.0</td>\n",
       "      <td>200.0</td>\n",
       "      <td>SSW</td>\n",
       "      <td>37.0</td>\n",
       "      <td>5.0</td>\n",
       "      <td>9.3</td>\n",
       "      <td>20.0</td>\n",
       "      <td>11</td>\n",
       "    </tr>\n",
       "    <tr>\n",
       "      <th>1996-11-02 03:00:00</th>\n",
       "      <td>Smoke</td>\n",
       "      <td>10.0</td>\n",
       "      <td>0</td>\n",
       "      <td>0</td>\n",
       "      <td>35.65171</td>\n",
       "      <td>46.0</td>\n",
       "      <td>1012.0</td>\n",
       "      <td>0</td>\n",
       "      <td>0</td>\n",
       "      <td>22.0</td>\n",
       "      <td>0</td>\n",
       "      <td>0</td>\n",
       "      <td>3.5</td>\n",
       "      <td>240.0</td>\n",
       "      <td>WSW</td>\n",
       "      <td>37.0</td>\n",
       "      <td>5.0</td>\n",
       "      <td>9.3</td>\n",
       "      <td>22.0</td>\n",
       "      <td>11</td>\n",
       "    </tr>\n",
       "    <tr>\n",
       "      <th>1996-11-02 04:00:00</th>\n",
       "      <td>Smoke</td>\n",
       "      <td>10.0</td>\n",
       "      <td>0</td>\n",
       "      <td>0</td>\n",
       "      <td>35.65171</td>\n",
       "      <td>44.0</td>\n",
       "      <td>1012.0</td>\n",
       "      <td>0</td>\n",
       "      <td>0</td>\n",
       "      <td>23.0</td>\n",
       "      <td>0</td>\n",
       "      <td>0</td>\n",
       "      <td>4.5</td>\n",
       "      <td>250.0</td>\n",
       "      <td>WSW</td>\n",
       "      <td>37.0</td>\n",
       "      <td>5.0</td>\n",
       "      <td>20.4</td>\n",
       "      <td>23.0</td>\n",
       "      <td>11</td>\n",
       "    </tr>\n",
       "    <tr>\n",
       "      <th>1996-11-02 05:00:00</th>\n",
       "      <td>Smoke</td>\n",
       "      <td>11.0</td>\n",
       "      <td>0</td>\n",
       "      <td>0</td>\n",
       "      <td>35.65171</td>\n",
       "      <td>39.0</td>\n",
       "      <td>1012.0</td>\n",
       "      <td>0</td>\n",
       "      <td>0</td>\n",
       "      <td>26.0</td>\n",
       "      <td>0</td>\n",
       "      <td>0</td>\n",
       "      <td>5.0</td>\n",
       "      <td>240.0</td>\n",
       "      <td>WSW</td>\n",
       "      <td>37.0</td>\n",
       "      <td>5.0</td>\n",
       "      <td>13.0</td>\n",
       "      <td>26.0</td>\n",
       "      <td>11</td>\n",
       "    </tr>\n",
       "    <tr>\n",
       "      <th>1996-11-02 06:00:00</th>\n",
       "      <td>Clear</td>\n",
       "      <td>10.0</td>\n",
       "      <td>0</td>\n",
       "      <td>0</td>\n",
       "      <td>35.65171</td>\n",
       "      <td>32.0</td>\n",
       "      <td>1011.0</td>\n",
       "      <td>0</td>\n",
       "      <td>0</td>\n",
       "      <td>28.0</td>\n",
       "      <td>0</td>\n",
       "      <td>0</td>\n",
       "      <td>6.0</td>\n",
       "      <td>260.0</td>\n",
       "      <td>West</td>\n",
       "      <td>37.0</td>\n",
       "      <td>5.0</td>\n",
       "      <td>16.7</td>\n",
       "      <td>28.0</td>\n",
       "      <td>11</td>\n",
       "    </tr>\n",
       "    <tr>\n",
       "      <th>1996-11-02 07:00:00</th>\n",
       "      <td>Clear</td>\n",
       "      <td>10.0</td>\n",
       "      <td>0</td>\n",
       "      <td>0</td>\n",
       "      <td>35.65171</td>\n",
       "      <td>29.0</td>\n",
       "      <td>1010.0</td>\n",
       "      <td>0</td>\n",
       "      <td>0</td>\n",
       "      <td>30.0</td>\n",
       "      <td>0</td>\n",
       "      <td>0</td>\n",
       "      <td>7.0</td>\n",
       "      <td>250.0</td>\n",
       "      <td>WSW</td>\n",
       "      <td>37.0</td>\n",
       "      <td>5.0</td>\n",
       "      <td>22.2</td>\n",
       "      <td>30.0</td>\n",
       "      <td>11</td>\n",
       "    </tr>\n",
       "    <tr>\n",
       "      <th>1996-11-02 08:00:00</th>\n",
       "      <td>Clear</td>\n",
       "      <td>8.0</td>\n",
       "      <td>0</td>\n",
       "      <td>0</td>\n",
       "      <td>35.65171</td>\n",
       "      <td>24.0</td>\n",
       "      <td>1009.0</td>\n",
       "      <td>0</td>\n",
       "      <td>0</td>\n",
       "      <td>31.0</td>\n",
       "      <td>0</td>\n",
       "      <td>0</td>\n",
       "      <td>7.0</td>\n",
       "      <td>280.0</td>\n",
       "      <td>West</td>\n",
       "      <td>37.0</td>\n",
       "      <td>5.0</td>\n",
       "      <td>18.5</td>\n",
       "      <td>31.0</td>\n",
       "      <td>11</td>\n",
       "    </tr>\n",
       "    <tr>\n",
       "      <th>1996-11-02 09:00:00</th>\n",
       "      <td>Clear</td>\n",
       "      <td>7.0</td>\n",
       "      <td>0</td>\n",
       "      <td>0</td>\n",
       "      <td>35.65171</td>\n",
       "      <td>22.0</td>\n",
       "      <td>1009.0</td>\n",
       "      <td>0</td>\n",
       "      <td>0</td>\n",
       "      <td>31.0</td>\n",
       "      <td>0</td>\n",
       "      <td>0</td>\n",
       "      <td>6.0</td>\n",
       "      <td>270.0</td>\n",
       "      <td>West</td>\n",
       "      <td>37.0</td>\n",
       "      <td>5.0</td>\n",
       "      <td>22.2</td>\n",
       "      <td>31.0</td>\n",
       "      <td>11</td>\n",
       "    </tr>\n",
       "    <tr>\n",
       "      <th>1996-11-02 10:00:00</th>\n",
       "      <td>Clear</td>\n",
       "      <td>7.0</td>\n",
       "      <td>0</td>\n",
       "      <td>0</td>\n",
       "      <td>35.65171</td>\n",
       "      <td>22.0</td>\n",
       "      <td>1009.0</td>\n",
       "      <td>0</td>\n",
       "      <td>0</td>\n",
       "      <td>31.0</td>\n",
       "      <td>0</td>\n",
       "      <td>0</td>\n",
       "      <td>6.0</td>\n",
       "      <td>280.0</td>\n",
       "      <td>West</td>\n",
       "      <td>37.0</td>\n",
       "      <td>5.0</td>\n",
       "      <td>14.8</td>\n",
       "      <td>31.0</td>\n",
       "      <td>11</td>\n",
       "    </tr>\n",
       "    <tr>\n",
       "      <th>1996-11-02 11:00:00</th>\n",
       "      <td>Smoke</td>\n",
       "      <td>8.0</td>\n",
       "      <td>0</td>\n",
       "      <td>0</td>\n",
       "      <td>35.65171</td>\n",
       "      <td>25.0</td>\n",
       "      <td>1009.0</td>\n",
       "      <td>0</td>\n",
       "      <td>0</td>\n",
       "      <td>30.0</td>\n",
       "      <td>0</td>\n",
       "      <td>0</td>\n",
       "      <td>5.0</td>\n",
       "      <td>270.0</td>\n",
       "      <td>West</td>\n",
       "      <td>37.0</td>\n",
       "      <td>5.0</td>\n",
       "      <td>14.8</td>\n",
       "      <td>30.0</td>\n",
       "      <td>11</td>\n",
       "    </tr>\n",
       "    <tr>\n",
       "      <th>1996-11-02 12:00:00</th>\n",
       "      <td>Smoke</td>\n",
       "      <td>10.0</td>\n",
       "      <td>0</td>\n",
       "      <td>0</td>\n",
       "      <td>35.65171</td>\n",
       "      <td>34.0</td>\n",
       "      <td>1009.0</td>\n",
       "      <td>0</td>\n",
       "      <td>0</td>\n",
       "      <td>27.0</td>\n",
       "      <td>0</td>\n",
       "      <td>0</td>\n",
       "      <td>3.5</td>\n",
       "      <td>20.0</td>\n",
       "      <td>NNE</td>\n",
       "      <td>37.0</td>\n",
       "      <td>5.0</td>\n",
       "      <td>7.4</td>\n",
       "      <td>27.0</td>\n",
       "      <td>11</td>\n",
       "    </tr>\n",
       "    <tr>\n",
       "      <th>1996-11-02 13:00:00</th>\n",
       "      <td>Smoke</td>\n",
       "      <td>11.0</td>\n",
       "      <td>0</td>\n",
       "      <td>0</td>\n",
       "      <td>35.65171</td>\n",
       "      <td>41.0</td>\n",
       "      <td>1009.0</td>\n",
       "      <td>0</td>\n",
       "      <td>0</td>\n",
       "      <td>25.0</td>\n",
       "      <td>0</td>\n",
       "      <td>0</td>\n",
       "      <td>3.0</td>\n",
       "      <td>0.0</td>\n",
       "      <td>North</td>\n",
       "      <td>37.0</td>\n",
       "      <td>5.0</td>\n",
       "      <td>0.0</td>\n",
       "      <td>25.0</td>\n",
       "      <td>11</td>\n",
       "    </tr>\n",
       "    <tr>\n",
       "      <th>1996-11-02 14:00:00</th>\n",
       "      <td>Smoke</td>\n",
       "      <td>12.0</td>\n",
       "      <td>0</td>\n",
       "      <td>0</td>\n",
       "      <td>35.65171</td>\n",
       "      <td>53.0</td>\n",
       "      <td>1010.0</td>\n",
       "      <td>0</td>\n",
       "      <td>0</td>\n",
       "      <td>22.0</td>\n",
       "      <td>0</td>\n",
       "      <td>0</td>\n",
       "      <td>2.0</td>\n",
       "      <td>0.0</td>\n",
       "      <td>North</td>\n",
       "      <td>37.0</td>\n",
       "      <td>5.0</td>\n",
       "      <td>0.0</td>\n",
       "      <td>22.0</td>\n",
       "      <td>11</td>\n",
       "    </tr>\n",
       "    <tr>\n",
       "      <th>1996-11-02 15:00:00</th>\n",
       "      <td>Smoke</td>\n",
       "      <td>12.0</td>\n",
       "      <td>0</td>\n",
       "      <td>0</td>\n",
       "      <td>35.65171</td>\n",
       "      <td>56.0</td>\n",
       "      <td>1010.0</td>\n",
       "      <td>0</td>\n",
       "      <td>0</td>\n",
       "      <td>21.0</td>\n",
       "      <td>0</td>\n",
       "      <td>0</td>\n",
       "      <td>2.0</td>\n",
       "      <td>0.0</td>\n",
       "      <td>North</td>\n",
       "      <td>37.0</td>\n",
       "      <td>5.0</td>\n",
       "      <td>9.0</td>\n",
       "      <td>21.0</td>\n",
       "      <td>11</td>\n",
       "    </tr>\n",
       "    <tr>\n",
       "      <th>1996-11-02 16:00:00</th>\n",
       "      <td>Smoke</td>\n",
       "      <td>12.0</td>\n",
       "      <td>0</td>\n",
       "      <td>0</td>\n",
       "      <td>35.65171</td>\n",
       "      <td>64.0</td>\n",
       "      <td>1010.0</td>\n",
       "      <td>0</td>\n",
       "      <td>0</td>\n",
       "      <td>19.0</td>\n",
       "      <td>0</td>\n",
       "      <td>0</td>\n",
       "      <td>1.2</td>\n",
       "      <td>0.0</td>\n",
       "      <td>North</td>\n",
       "      <td>37.0</td>\n",
       "      <td>5.0</td>\n",
       "      <td>0.0</td>\n",
       "      <td>19.0</td>\n",
       "      <td>11</td>\n",
       "    </tr>\n",
       "    <tr>\n",
       "      <th>1996-11-02 17:00:00</th>\n",
       "      <td>Smoke</td>\n",
       "      <td>12.0</td>\n",
       "      <td>0</td>\n",
       "      <td>0</td>\n",
       "      <td>35.65171</td>\n",
       "      <td>60.0</td>\n",
       "      <td>1010.0</td>\n",
       "      <td>0</td>\n",
       "      <td>0</td>\n",
       "      <td>20.0</td>\n",
       "      <td>0</td>\n",
       "      <td>0</td>\n",
       "      <td>1.1</td>\n",
       "      <td>0.0</td>\n",
       "      <td>North</td>\n",
       "      <td>37.0</td>\n",
       "      <td>5.0</td>\n",
       "      <td>0.0</td>\n",
       "      <td>20.0</td>\n",
       "      <td>11</td>\n",
       "    </tr>\n",
       "    <tr>\n",
       "      <th>...</th>\n",
       "      <td>...</td>\n",
       "      <td>...</td>\n",
       "      <td>...</td>\n",
       "      <td>...</td>\n",
       "      <td>...</td>\n",
       "      <td>...</td>\n",
       "      <td>...</td>\n",
       "      <td>...</td>\n",
       "      <td>...</td>\n",
       "      <td>...</td>\n",
       "      <td>...</td>\n",
       "      <td>...</td>\n",
       "      <td>...</td>\n",
       "      <td>...</td>\n",
       "      <td>...</td>\n",
       "      <td>...</td>\n",
       "      <td>...</td>\n",
       "      <td>...</td>\n",
       "      <td>...</td>\n",
       "      <td>...</td>\n",
       "    </tr>\n",
       "    <tr>\n",
       "      <th>2016-11-28 11:00:00</th>\n",
       "      <td>Haze</td>\n",
       "      <td>6.0</td>\n",
       "      <td>0</td>\n",
       "      <td>0</td>\n",
       "      <td>35.65171</td>\n",
       "      <td>25.0</td>\n",
       "      <td>1012.0</td>\n",
       "      <td>0</td>\n",
       "      <td>0</td>\n",
       "      <td>28.0</td>\n",
       "      <td>0</td>\n",
       "      <td>0</td>\n",
       "      <td>4.0</td>\n",
       "      <td>310.0</td>\n",
       "      <td>NW</td>\n",
       "      <td>37.0</td>\n",
       "      <td>5.0</td>\n",
       "      <td>5.6</td>\n",
       "      <td>28.0</td>\n",
       "      <td>11</td>\n",
       "    </tr>\n",
       "    <tr>\n",
       "      <th>2016-11-28 12:30:00</th>\n",
       "      <td>Haze</td>\n",
       "      <td>10.0</td>\n",
       "      <td>0</td>\n",
       "      <td>0</td>\n",
       "      <td>35.65171</td>\n",
       "      <td>44.0</td>\n",
       "      <td>1012.0</td>\n",
       "      <td>0</td>\n",
       "      <td>0</td>\n",
       "      <td>23.0</td>\n",
       "      <td>0</td>\n",
       "      <td>0</td>\n",
       "      <td>3.0</td>\n",
       "      <td>0.0</td>\n",
       "      <td>North</td>\n",
       "      <td>37.0</td>\n",
       "      <td>5.0</td>\n",
       "      <td>0.0</td>\n",
       "      <td>23.0</td>\n",
       "      <td>11</td>\n",
       "    </tr>\n",
       "    <tr>\n",
       "      <th>2016-11-29 03:30:00</th>\n",
       "      <td>Mist</td>\n",
       "      <td>8.0</td>\n",
       "      <td>0</td>\n",
       "      <td>0</td>\n",
       "      <td>35.65171</td>\n",
       "      <td>72.0</td>\n",
       "      <td>1016.0</td>\n",
       "      <td>0</td>\n",
       "      <td>0</td>\n",
       "      <td>13.0</td>\n",
       "      <td>0</td>\n",
       "      <td>0</td>\n",
       "      <td>2.0</td>\n",
       "      <td>0.0</td>\n",
       "      <td>North</td>\n",
       "      <td>37.0</td>\n",
       "      <td>5.0</td>\n",
       "      <td>0.0</td>\n",
       "      <td>13.0</td>\n",
       "      <td>11</td>\n",
       "    </tr>\n",
       "    <tr>\n",
       "      <th>2016-11-29 05:00:00</th>\n",
       "      <td>Haze</td>\n",
       "      <td>9.0</td>\n",
       "      <td>0</td>\n",
       "      <td>0</td>\n",
       "      <td>35.65171</td>\n",
       "      <td>46.0</td>\n",
       "      <td>1017.0</td>\n",
       "      <td>0</td>\n",
       "      <td>0</td>\n",
       "      <td>21.0</td>\n",
       "      <td>0</td>\n",
       "      <td>0</td>\n",
       "      <td>3.0</td>\n",
       "      <td>0.0</td>\n",
       "      <td>North</td>\n",
       "      <td>37.0</td>\n",
       "      <td>5.0</td>\n",
       "      <td>0.0</td>\n",
       "      <td>21.0</td>\n",
       "      <td>11</td>\n",
       "    </tr>\n",
       "    <tr>\n",
       "      <th>2016-11-29 06:00:00</th>\n",
       "      <td>Haze</td>\n",
       "      <td>10.0</td>\n",
       "      <td>0</td>\n",
       "      <td>0</td>\n",
       "      <td>35.65171</td>\n",
       "      <td>27.0</td>\n",
       "      <td>1016.0</td>\n",
       "      <td>0</td>\n",
       "      <td>0</td>\n",
       "      <td>25.0</td>\n",
       "      <td>0</td>\n",
       "      <td>0</td>\n",
       "      <td>2.0</td>\n",
       "      <td>250.0</td>\n",
       "      <td>WSW</td>\n",
       "      <td>37.0</td>\n",
       "      <td>5.0</td>\n",
       "      <td>5.6</td>\n",
       "      <td>25.0</td>\n",
       "      <td>11</td>\n",
       "    </tr>\n",
       "    <tr>\n",
       "      <th>2016-11-29 07:00:00</th>\n",
       "      <td>Haze</td>\n",
       "      <td>9.0</td>\n",
       "      <td>0</td>\n",
       "      <td>0</td>\n",
       "      <td>35.65171</td>\n",
       "      <td>32.0</td>\n",
       "      <td>1016.0</td>\n",
       "      <td>0</td>\n",
       "      <td>0</td>\n",
       "      <td>27.0</td>\n",
       "      <td>0</td>\n",
       "      <td>0</td>\n",
       "      <td>3.5</td>\n",
       "      <td>0.0</td>\n",
       "      <td>North</td>\n",
       "      <td>37.0</td>\n",
       "      <td>5.0</td>\n",
       "      <td>0.0</td>\n",
       "      <td>27.0</td>\n",
       "      <td>11</td>\n",
       "    </tr>\n",
       "    <tr>\n",
       "      <th>2016-11-29 08:00:00</th>\n",
       "      <td>Haze</td>\n",
       "      <td>9.0</td>\n",
       "      <td>0</td>\n",
       "      <td>0</td>\n",
       "      <td>35.65171</td>\n",
       "      <td>32.0</td>\n",
       "      <td>1015.0</td>\n",
       "      <td>0</td>\n",
       "      <td>0</td>\n",
       "      <td>27.0</td>\n",
       "      <td>0</td>\n",
       "      <td>0</td>\n",
       "      <td>3.5</td>\n",
       "      <td>340.0</td>\n",
       "      <td>NNW</td>\n",
       "      <td>37.0</td>\n",
       "      <td>5.0</td>\n",
       "      <td>3.7</td>\n",
       "      <td>27.0</td>\n",
       "      <td>11</td>\n",
       "    </tr>\n",
       "    <tr>\n",
       "      <th>2016-11-29 08:30:00</th>\n",
       "      <td>Haze</td>\n",
       "      <td>10.0</td>\n",
       "      <td>0</td>\n",
       "      <td>0</td>\n",
       "      <td>35.65171</td>\n",
       "      <td>32.0</td>\n",
       "      <td>1014.0</td>\n",
       "      <td>0</td>\n",
       "      <td>0</td>\n",
       "      <td>28.0</td>\n",
       "      <td>0</td>\n",
       "      <td>0</td>\n",
       "      <td>3.0</td>\n",
       "      <td>340.0</td>\n",
       "      <td>NNW</td>\n",
       "      <td>37.0</td>\n",
       "      <td>5.0</td>\n",
       "      <td>5.6</td>\n",
       "      <td>28.0</td>\n",
       "      <td>11</td>\n",
       "    </tr>\n",
       "    <tr>\n",
       "      <th>2016-11-29 09:30:00</th>\n",
       "      <td>Haze</td>\n",
       "      <td>13.0</td>\n",
       "      <td>0</td>\n",
       "      <td>0</td>\n",
       "      <td>35.65171</td>\n",
       "      <td>42.0</td>\n",
       "      <td>1014.0</td>\n",
       "      <td>0</td>\n",
       "      <td>0</td>\n",
       "      <td>27.0</td>\n",
       "      <td>0</td>\n",
       "      <td>0</td>\n",
       "      <td>2.0</td>\n",
       "      <td>40.0</td>\n",
       "      <td>NE</td>\n",
       "      <td>37.0</td>\n",
       "      <td>5.0</td>\n",
       "      <td>3.7</td>\n",
       "      <td>27.0</td>\n",
       "      <td>11</td>\n",
       "    </tr>\n",
       "    <tr>\n",
       "      <th>2016-11-29 10:00:00</th>\n",
       "      <td>Haze</td>\n",
       "      <td>14.0</td>\n",
       "      <td>0</td>\n",
       "      <td>0</td>\n",
       "      <td>35.65171</td>\n",
       "      <td>45.0</td>\n",
       "      <td>1014.0</td>\n",
       "      <td>0</td>\n",
       "      <td>0</td>\n",
       "      <td>27.0</td>\n",
       "      <td>0</td>\n",
       "      <td>0</td>\n",
       "      <td>2.0</td>\n",
       "      <td>40.0</td>\n",
       "      <td>NE</td>\n",
       "      <td>37.0</td>\n",
       "      <td>5.0</td>\n",
       "      <td>3.7</td>\n",
       "      <td>27.0</td>\n",
       "      <td>11</td>\n",
       "    </tr>\n",
       "    <tr>\n",
       "      <th>2016-11-29 10:30:00</th>\n",
       "      <td>Haze</td>\n",
       "      <td>13.0</td>\n",
       "      <td>0</td>\n",
       "      <td>0</td>\n",
       "      <td>35.65171</td>\n",
       "      <td>42.0</td>\n",
       "      <td>1014.0</td>\n",
       "      <td>0</td>\n",
       "      <td>0</td>\n",
       "      <td>27.0</td>\n",
       "      <td>0</td>\n",
       "      <td>0</td>\n",
       "      <td>2.0</td>\n",
       "      <td>0.0</td>\n",
       "      <td>North</td>\n",
       "      <td>37.0</td>\n",
       "      <td>5.0</td>\n",
       "      <td>0.0</td>\n",
       "      <td>27.0</td>\n",
       "      <td>11</td>\n",
       "    </tr>\n",
       "    <tr>\n",
       "      <th>2016-11-29 11:00:00</th>\n",
       "      <td>Haze</td>\n",
       "      <td>15.0</td>\n",
       "      <td>0</td>\n",
       "      <td>0</td>\n",
       "      <td>35.65171</td>\n",
       "      <td>51.0</td>\n",
       "      <td>1014.0</td>\n",
       "      <td>0</td>\n",
       "      <td>0</td>\n",
       "      <td>26.0</td>\n",
       "      <td>0</td>\n",
       "      <td>0</td>\n",
       "      <td>2.0</td>\n",
       "      <td>0.0</td>\n",
       "      <td>North</td>\n",
       "      <td>37.0</td>\n",
       "      <td>5.0</td>\n",
       "      <td>0.0</td>\n",
       "      <td>26.0</td>\n",
       "      <td>11</td>\n",
       "    </tr>\n",
       "    <tr>\n",
       "      <th>2016-11-29 11:30:00</th>\n",
       "      <td>Haze</td>\n",
       "      <td>15.0</td>\n",
       "      <td>0</td>\n",
       "      <td>0</td>\n",
       "      <td>35.65171</td>\n",
       "      <td>61.0</td>\n",
       "      <td>1014.0</td>\n",
       "      <td>0</td>\n",
       "      <td>0</td>\n",
       "      <td>23.0</td>\n",
       "      <td>0</td>\n",
       "      <td>0</td>\n",
       "      <td>2.0</td>\n",
       "      <td>0.0</td>\n",
       "      <td>North</td>\n",
       "      <td>37.0</td>\n",
       "      <td>5.0</td>\n",
       "      <td>0.0</td>\n",
       "      <td>23.0</td>\n",
       "      <td>11</td>\n",
       "    </tr>\n",
       "    <tr>\n",
       "      <th>2016-11-30 02:00:00</th>\n",
       "      <td>Fog</td>\n",
       "      <td>15.0</td>\n",
       "      <td>1</td>\n",
       "      <td>0</td>\n",
       "      <td>35.65171</td>\n",
       "      <td>100.0</td>\n",
       "      <td>1018.0</td>\n",
       "      <td>0</td>\n",
       "      <td>0</td>\n",
       "      <td>15.0</td>\n",
       "      <td>0</td>\n",
       "      <td>0</td>\n",
       "      <td>0.1</td>\n",
       "      <td>90.0</td>\n",
       "      <td>East</td>\n",
       "      <td>37.0</td>\n",
       "      <td>5.0</td>\n",
       "      <td>3.7</td>\n",
       "      <td>15.0</td>\n",
       "      <td>11</td>\n",
       "    </tr>\n",
       "    <tr>\n",
       "      <th>2016-11-30 02:30:00</th>\n",
       "      <td>Fog</td>\n",
       "      <td>15.0</td>\n",
       "      <td>1</td>\n",
       "      <td>0</td>\n",
       "      <td>35.65171</td>\n",
       "      <td>94.0</td>\n",
       "      <td>1018.0</td>\n",
       "      <td>0</td>\n",
       "      <td>0</td>\n",
       "      <td>16.0</td>\n",
       "      <td>0</td>\n",
       "      <td>0</td>\n",
       "      <td>0.1</td>\n",
       "      <td>0.0</td>\n",
       "      <td>North</td>\n",
       "      <td>37.0</td>\n",
       "      <td>5.0</td>\n",
       "      <td>0.0</td>\n",
       "      <td>16.0</td>\n",
       "      <td>11</td>\n",
       "    </tr>\n",
       "    <tr>\n",
       "      <th>2016-11-30 03:30:00</th>\n",
       "      <td>Fog</td>\n",
       "      <td>16.0</td>\n",
       "      <td>1</td>\n",
       "      <td>0</td>\n",
       "      <td>35.65171</td>\n",
       "      <td>100.0</td>\n",
       "      <td>1018.0</td>\n",
       "      <td>0</td>\n",
       "      <td>0</td>\n",
       "      <td>16.0</td>\n",
       "      <td>0</td>\n",
       "      <td>0</td>\n",
       "      <td>0.3</td>\n",
       "      <td>70.0</td>\n",
       "      <td>ENE</td>\n",
       "      <td>37.0</td>\n",
       "      <td>5.0</td>\n",
       "      <td>5.6</td>\n",
       "      <td>16.0</td>\n",
       "      <td>11</td>\n",
       "    </tr>\n",
       "    <tr>\n",
       "      <th>2016-11-30 04:00:00</th>\n",
       "      <td>Fog</td>\n",
       "      <td>16.0</td>\n",
       "      <td>1</td>\n",
       "      <td>0</td>\n",
       "      <td>35.65171</td>\n",
       "      <td>100.0</td>\n",
       "      <td>1018.0</td>\n",
       "      <td>0</td>\n",
       "      <td>0</td>\n",
       "      <td>16.0</td>\n",
       "      <td>0</td>\n",
       "      <td>0</td>\n",
       "      <td>0.3</td>\n",
       "      <td>80.0</td>\n",
       "      <td>East</td>\n",
       "      <td>37.0</td>\n",
       "      <td>5.0</td>\n",
       "      <td>9.3</td>\n",
       "      <td>16.0</td>\n",
       "      <td>11</td>\n",
       "    </tr>\n",
       "    <tr>\n",
       "      <th>2016-11-30 04:30:00</th>\n",
       "      <td>Fog</td>\n",
       "      <td>16.0</td>\n",
       "      <td>1</td>\n",
       "      <td>0</td>\n",
       "      <td>35.65171</td>\n",
       "      <td>94.0</td>\n",
       "      <td>1019.0</td>\n",
       "      <td>0</td>\n",
       "      <td>0</td>\n",
       "      <td>17.0</td>\n",
       "      <td>0</td>\n",
       "      <td>0</td>\n",
       "      <td>0.3</td>\n",
       "      <td>100.0</td>\n",
       "      <td>East</td>\n",
       "      <td>37.0</td>\n",
       "      <td>5.0</td>\n",
       "      <td>3.7</td>\n",
       "      <td>17.0</td>\n",
       "      <td>11</td>\n",
       "    </tr>\n",
       "    <tr>\n",
       "      <th>2016-11-30 05:00:00</th>\n",
       "      <td>Fog</td>\n",
       "      <td>17.0</td>\n",
       "      <td>1</td>\n",
       "      <td>0</td>\n",
       "      <td>35.65171</td>\n",
       "      <td>88.0</td>\n",
       "      <td>1019.0</td>\n",
       "      <td>0</td>\n",
       "      <td>0</td>\n",
       "      <td>19.0</td>\n",
       "      <td>0</td>\n",
       "      <td>0</td>\n",
       "      <td>0.5</td>\n",
       "      <td>120.0</td>\n",
       "      <td>ESE</td>\n",
       "      <td>37.0</td>\n",
       "      <td>5.0</td>\n",
       "      <td>7.4</td>\n",
       "      <td>19.0</td>\n",
       "      <td>11</td>\n",
       "    </tr>\n",
       "    <tr>\n",
       "      <th>2016-11-30 07:00:00</th>\n",
       "      <td>Smoke</td>\n",
       "      <td>18.0</td>\n",
       "      <td>0</td>\n",
       "      <td>0</td>\n",
       "      <td>35.65171</td>\n",
       "      <td>73.0</td>\n",
       "      <td>1018.0</td>\n",
       "      <td>0</td>\n",
       "      <td>0</td>\n",
       "      <td>23.0</td>\n",
       "      <td>0</td>\n",
       "      <td>0</td>\n",
       "      <td>1.0</td>\n",
       "      <td>110.0</td>\n",
       "      <td>ESE</td>\n",
       "      <td>37.0</td>\n",
       "      <td>5.0</td>\n",
       "      <td>7.4</td>\n",
       "      <td>23.0</td>\n",
       "      <td>11</td>\n",
       "    </tr>\n",
       "    <tr>\n",
       "      <th>2016-11-30 08:00:00</th>\n",
       "      <td>Smoke</td>\n",
       "      <td>18.0</td>\n",
       "      <td>0</td>\n",
       "      <td>0</td>\n",
       "      <td>35.65171</td>\n",
       "      <td>61.0</td>\n",
       "      <td>1017.0</td>\n",
       "      <td>0</td>\n",
       "      <td>0</td>\n",
       "      <td>26.0</td>\n",
       "      <td>0</td>\n",
       "      <td>0</td>\n",
       "      <td>1.0</td>\n",
       "      <td>120.0</td>\n",
       "      <td>ESE</td>\n",
       "      <td>37.0</td>\n",
       "      <td>5.0</td>\n",
       "      <td>7.4</td>\n",
       "      <td>26.0</td>\n",
       "      <td>11</td>\n",
       "    </tr>\n",
       "    <tr>\n",
       "      <th>2016-11-30 08:30:00</th>\n",
       "      <td>Smoke</td>\n",
       "      <td>17.0</td>\n",
       "      <td>0</td>\n",
       "      <td>0</td>\n",
       "      <td>35.65171</td>\n",
       "      <td>57.0</td>\n",
       "      <td>1016.0</td>\n",
       "      <td>0</td>\n",
       "      <td>0</td>\n",
       "      <td>26.0</td>\n",
       "      <td>0</td>\n",
       "      <td>0</td>\n",
       "      <td>1.0</td>\n",
       "      <td>120.0</td>\n",
       "      <td>ESE</td>\n",
       "      <td>37.0</td>\n",
       "      <td>5.0</td>\n",
       "      <td>7.4</td>\n",
       "      <td>26.0</td>\n",
       "      <td>11</td>\n",
       "    </tr>\n",
       "    <tr>\n",
       "      <th>2016-11-30 09:00:00</th>\n",
       "      <td>Smoke</td>\n",
       "      <td>18.0</td>\n",
       "      <td>0</td>\n",
       "      <td>0</td>\n",
       "      <td>35.65171</td>\n",
       "      <td>52.0</td>\n",
       "      <td>1015.0</td>\n",
       "      <td>0</td>\n",
       "      <td>0</td>\n",
       "      <td>26.0</td>\n",
       "      <td>0</td>\n",
       "      <td>0</td>\n",
       "      <td>1.0</td>\n",
       "      <td>110.0</td>\n",
       "      <td>ESE</td>\n",
       "      <td>37.0</td>\n",
       "      <td>5.0</td>\n",
       "      <td>7.4</td>\n",
       "      <td>26.0</td>\n",
       "      <td>11</td>\n",
       "    </tr>\n",
       "    <tr>\n",
       "      <th>2016-11-30 10:00:00</th>\n",
       "      <td>Smoke</td>\n",
       "      <td>17.0</td>\n",
       "      <td>0</td>\n",
       "      <td>0</td>\n",
       "      <td>35.65171</td>\n",
       "      <td>61.0</td>\n",
       "      <td>1016.0</td>\n",
       "      <td>0</td>\n",
       "      <td>0</td>\n",
       "      <td>25.0</td>\n",
       "      <td>0</td>\n",
       "      <td>0</td>\n",
       "      <td>1.8</td>\n",
       "      <td>140.0</td>\n",
       "      <td>SE</td>\n",
       "      <td>37.0</td>\n",
       "      <td>5.0</td>\n",
       "      <td>3.7</td>\n",
       "      <td>25.0</td>\n",
       "      <td>11</td>\n",
       "    </tr>\n",
       "    <tr>\n",
       "      <th>2016-11-30 10:30:00</th>\n",
       "      <td>Haze</td>\n",
       "      <td>17.0</td>\n",
       "      <td>0</td>\n",
       "      <td>0</td>\n",
       "      <td>35.65171</td>\n",
       "      <td>61.0</td>\n",
       "      <td>1015.0</td>\n",
       "      <td>0</td>\n",
       "      <td>0</td>\n",
       "      <td>25.0</td>\n",
       "      <td>0</td>\n",
       "      <td>0</td>\n",
       "      <td>2.0</td>\n",
       "      <td>110.0</td>\n",
       "      <td>ESE</td>\n",
       "      <td>37.0</td>\n",
       "      <td>5.0</td>\n",
       "      <td>3.7</td>\n",
       "      <td>25.0</td>\n",
       "      <td>11</td>\n",
       "    </tr>\n",
       "    <tr>\n",
       "      <th>2016-11-30 11:00:00</th>\n",
       "      <td>Haze</td>\n",
       "      <td>17.0</td>\n",
       "      <td>0</td>\n",
       "      <td>0</td>\n",
       "      <td>35.65171</td>\n",
       "      <td>61.0</td>\n",
       "      <td>1015.0</td>\n",
       "      <td>0</td>\n",
       "      <td>0</td>\n",
       "      <td>25.0</td>\n",
       "      <td>0</td>\n",
       "      <td>0</td>\n",
       "      <td>2.0</td>\n",
       "      <td>110.0</td>\n",
       "      <td>ESE</td>\n",
       "      <td>37.0</td>\n",
       "      <td>5.0</td>\n",
       "      <td>3.7</td>\n",
       "      <td>25.0</td>\n",
       "      <td>11</td>\n",
       "    </tr>\n",
       "    <tr>\n",
       "      <th>2016-11-30 11:30:00</th>\n",
       "      <td>Haze</td>\n",
       "      <td>18.0</td>\n",
       "      <td>0</td>\n",
       "      <td>0</td>\n",
       "      <td>35.65171</td>\n",
       "      <td>69.0</td>\n",
       "      <td>1015.0</td>\n",
       "      <td>0</td>\n",
       "      <td>0</td>\n",
       "      <td>24.0</td>\n",
       "      <td>0</td>\n",
       "      <td>0</td>\n",
       "      <td>1.5</td>\n",
       "      <td>140.0</td>\n",
       "      <td>SE</td>\n",
       "      <td>37.0</td>\n",
       "      <td>5.0</td>\n",
       "      <td>7.4</td>\n",
       "      <td>24.0</td>\n",
       "      <td>11</td>\n",
       "    </tr>\n",
       "    <tr>\n",
       "      <th>2016-11-30 12:00:00</th>\n",
       "      <td>Haze</td>\n",
       "      <td>18.0</td>\n",
       "      <td>0</td>\n",
       "      <td>0</td>\n",
       "      <td>35.65171</td>\n",
       "      <td>65.0</td>\n",
       "      <td>1014.0</td>\n",
       "      <td>0</td>\n",
       "      <td>0</td>\n",
       "      <td>23.0</td>\n",
       "      <td>0</td>\n",
       "      <td>0</td>\n",
       "      <td>1.0</td>\n",
       "      <td>140.0</td>\n",
       "      <td>SE</td>\n",
       "      <td>37.0</td>\n",
       "      <td>5.0</td>\n",
       "      <td>7.4</td>\n",
       "      <td>23.0</td>\n",
       "      <td>11</td>\n",
       "    </tr>\n",
       "    <tr>\n",
       "      <th>2016-11-30 12:30:00</th>\n",
       "      <td>Mist</td>\n",
       "      <td>17.0</td>\n",
       "      <td>0</td>\n",
       "      <td>0</td>\n",
       "      <td>35.65171</td>\n",
       "      <td>78.0</td>\n",
       "      <td>1015.0</td>\n",
       "      <td>0</td>\n",
       "      <td>0</td>\n",
       "      <td>21.0</td>\n",
       "      <td>0</td>\n",
       "      <td>0</td>\n",
       "      <td>1.5</td>\n",
       "      <td>0.0</td>\n",
       "      <td>North</td>\n",
       "      <td>37.0</td>\n",
       "      <td>5.0</td>\n",
       "      <td>0.0</td>\n",
       "      <td>21.0</td>\n",
       "      <td>11</td>\n",
       "    </tr>\n",
       "    <tr>\n",
       "      <th>2016-11-30 13:00:00</th>\n",
       "      <td>Mist</td>\n",
       "      <td>16.0</td>\n",
       "      <td>0</td>\n",
       "      <td>0</td>\n",
       "      <td>35.65171</td>\n",
       "      <td>83.0</td>\n",
       "      <td>1015.0</td>\n",
       "      <td>0</td>\n",
       "      <td>0</td>\n",
       "      <td>19.0</td>\n",
       "      <td>0</td>\n",
       "      <td>0</td>\n",
       "      <td>1.2</td>\n",
       "      <td>0.0</td>\n",
       "      <td>North</td>\n",
       "      <td>37.0</td>\n",
       "      <td>5.0</td>\n",
       "      <td>0.0</td>\n",
       "      <td>19.0</td>\n",
       "      <td>11</td>\n",
       "    </tr>\n",
       "  </tbody>\n",
       "</table>\n",
       "<p>6769 rows × 20 columns</p>\n",
       "</div>"
      ],
      "text/plain": [
       "                     conds  dewptm  fog  hail  heatindexm    hum  pressurem  \\\n",
       "datetime_utc                                                                  \n",
       "1996-11-01 11:00:00  Smoke     9.0    0     0    35.65171   27.0     1010.0   \n",
       "1996-11-01 12:00:00  Smoke    10.0    0     0    35.65171   32.0    -9999.0   \n",
       "1996-11-01 13:00:00  Smoke    11.0    0     0    35.65171   44.0    -9999.0   \n",
       "1996-11-01 14:00:00  Smoke    10.0    0     0    35.65171   41.0     1010.0   \n",
       "1996-11-01 16:00:00  Smoke    11.0    0     0    35.65171   47.0     1011.0   \n",
       "1996-11-01 17:00:00  Smoke    12.0    0     0    35.65171   56.0     1011.0   \n",
       "1996-11-01 18:00:00  Smoke    13.0    0     0    35.65171   60.0     1010.0   \n",
       "1996-11-01 19:00:00  Smoke    13.0    0     0    35.65171   60.0    -9999.0   \n",
       "1996-11-01 20:00:00  Smoke    13.0    0     0    35.65171   68.0    -9999.0   \n",
       "1996-11-01 21:00:00  Smoke    13.0    0     0    35.65171   68.0     1010.0   \n",
       "1996-11-01 22:00:00  Smoke    13.0    0     0    35.65171   68.0     1009.0   \n",
       "1996-11-01 23:00:00  Smoke    12.0    0     0    35.65171   64.0     1009.0   \n",
       "1996-11-02 00:00:00  Smoke    11.0    0     0    35.65171   60.0     1010.0   \n",
       "1996-11-02 01:00:00  Smoke    11.0    0     0    35.65171   60.0     1010.0   \n",
       "1996-11-02 02:00:00  Smoke    10.0    0     0    35.65171   52.0     1011.0   \n",
       "1996-11-02 03:00:00  Smoke    10.0    0     0    35.65171   46.0     1012.0   \n",
       "1996-11-02 04:00:00  Smoke    10.0    0     0    35.65171   44.0     1012.0   \n",
       "1996-11-02 05:00:00  Smoke    11.0    0     0    35.65171   39.0     1012.0   \n",
       "1996-11-02 06:00:00  Clear    10.0    0     0    35.65171   32.0     1011.0   \n",
       "1996-11-02 07:00:00  Clear    10.0    0     0    35.65171   29.0     1010.0   \n",
       "1996-11-02 08:00:00  Clear     8.0    0     0    35.65171   24.0     1009.0   \n",
       "1996-11-02 09:00:00  Clear     7.0    0     0    35.65171   22.0     1009.0   \n",
       "1996-11-02 10:00:00  Clear     7.0    0     0    35.65171   22.0     1009.0   \n",
       "1996-11-02 11:00:00  Smoke     8.0    0     0    35.65171   25.0     1009.0   \n",
       "1996-11-02 12:00:00  Smoke    10.0    0     0    35.65171   34.0     1009.0   \n",
       "1996-11-02 13:00:00  Smoke    11.0    0     0    35.65171   41.0     1009.0   \n",
       "1996-11-02 14:00:00  Smoke    12.0    0     0    35.65171   53.0     1010.0   \n",
       "1996-11-02 15:00:00  Smoke    12.0    0     0    35.65171   56.0     1010.0   \n",
       "1996-11-02 16:00:00  Smoke    12.0    0     0    35.65171   64.0     1010.0   \n",
       "1996-11-02 17:00:00  Smoke    12.0    0     0    35.65171   60.0     1010.0   \n",
       "...                    ...     ...  ...   ...         ...    ...        ...   \n",
       "2016-11-28 11:00:00   Haze     6.0    0     0    35.65171   25.0     1012.0   \n",
       "2016-11-28 12:30:00   Haze    10.0    0     0    35.65171   44.0     1012.0   \n",
       "2016-11-29 03:30:00   Mist     8.0    0     0    35.65171   72.0     1016.0   \n",
       "2016-11-29 05:00:00   Haze     9.0    0     0    35.65171   46.0     1017.0   \n",
       "2016-11-29 06:00:00   Haze    10.0    0     0    35.65171   27.0     1016.0   \n",
       "2016-11-29 07:00:00   Haze     9.0    0     0    35.65171   32.0     1016.0   \n",
       "2016-11-29 08:00:00   Haze     9.0    0     0    35.65171   32.0     1015.0   \n",
       "2016-11-29 08:30:00   Haze    10.0    0     0    35.65171   32.0     1014.0   \n",
       "2016-11-29 09:30:00   Haze    13.0    0     0    35.65171   42.0     1014.0   \n",
       "2016-11-29 10:00:00   Haze    14.0    0     0    35.65171   45.0     1014.0   \n",
       "2016-11-29 10:30:00   Haze    13.0    0     0    35.65171   42.0     1014.0   \n",
       "2016-11-29 11:00:00   Haze    15.0    0     0    35.65171   51.0     1014.0   \n",
       "2016-11-29 11:30:00   Haze    15.0    0     0    35.65171   61.0     1014.0   \n",
       "2016-11-30 02:00:00    Fog    15.0    1     0    35.65171  100.0     1018.0   \n",
       "2016-11-30 02:30:00    Fog    15.0    1     0    35.65171   94.0     1018.0   \n",
       "2016-11-30 03:30:00    Fog    16.0    1     0    35.65171  100.0     1018.0   \n",
       "2016-11-30 04:00:00    Fog    16.0    1     0    35.65171  100.0     1018.0   \n",
       "2016-11-30 04:30:00    Fog    16.0    1     0    35.65171   94.0     1019.0   \n",
       "2016-11-30 05:00:00    Fog    17.0    1     0    35.65171   88.0     1019.0   \n",
       "2016-11-30 07:00:00  Smoke    18.0    0     0    35.65171   73.0     1018.0   \n",
       "2016-11-30 08:00:00  Smoke    18.0    0     0    35.65171   61.0     1017.0   \n",
       "2016-11-30 08:30:00  Smoke    17.0    0     0    35.65171   57.0     1016.0   \n",
       "2016-11-30 09:00:00  Smoke    18.0    0     0    35.65171   52.0     1015.0   \n",
       "2016-11-30 10:00:00  Smoke    17.0    0     0    35.65171   61.0     1016.0   \n",
       "2016-11-30 10:30:00   Haze    17.0    0     0    35.65171   61.0     1015.0   \n",
       "2016-11-30 11:00:00   Haze    17.0    0     0    35.65171   61.0     1015.0   \n",
       "2016-11-30 11:30:00   Haze    18.0    0     0    35.65171   69.0     1015.0   \n",
       "2016-11-30 12:00:00   Haze    18.0    0     0    35.65171   65.0     1014.0   \n",
       "2016-11-30 12:30:00   Mist    17.0    0     0    35.65171   78.0     1015.0   \n",
       "2016-11-30 13:00:00   Mist    16.0    0     0    35.65171   83.0     1015.0   \n",
       "\n",
       "                     rain  snow  tempm  thunder  tornado  vism  wdird  wdire  \\\n",
       "datetime_utc                                                                   \n",
       "1996-11-01 11:00:00     0     0   30.0        0        0   5.0  280.0   West   \n",
       "1996-11-01 12:00:00     0     0   28.0        0        0   2.0    0.0  North   \n",
       "1996-11-01 13:00:00     0     0   24.0        0        0   2.0    0.0  North   \n",
       "1996-11-01 14:00:00     0     0   24.0        0        0   2.0    0.0  North   \n",
       "1996-11-01 16:00:00     0     0   23.0        0        0   1.2    0.0  North   \n",
       "1996-11-01 17:00:00     0     0   21.0        0        0   2.0    0.0  North   \n",
       "1996-11-01 18:00:00     0     0   21.0        0        0   0.8    0.0  North   \n",
       "1996-11-01 19:00:00     0     0   21.0        0        0   2.0    0.0  North   \n",
       "1996-11-01 20:00:00     0     0   19.0        0        0   2.0    0.0  North   \n",
       "1996-11-01 21:00:00     0     0   19.0        0        0   2.0    0.0  North   \n",
       "1996-11-01 22:00:00     0     0   19.0        0        0   2.0    0.0  North   \n",
       "1996-11-01 23:00:00     0     0   19.0        0        0   2.0    0.0  North   \n",
       "1996-11-02 00:00:00     0     0   19.0        0        0   2.0    0.0  North   \n",
       "1996-11-02 01:00:00     0     0   19.0        0        0   2.0    0.0  North   \n",
       "1996-11-02 02:00:00     0     0   20.0        0        0   2.0  200.0    SSW   \n",
       "1996-11-02 03:00:00     0     0   22.0        0        0   3.5  240.0    WSW   \n",
       "1996-11-02 04:00:00     0     0   23.0        0        0   4.5  250.0    WSW   \n",
       "1996-11-02 05:00:00     0     0   26.0        0        0   5.0  240.0    WSW   \n",
       "1996-11-02 06:00:00     0     0   28.0        0        0   6.0  260.0   West   \n",
       "1996-11-02 07:00:00     0     0   30.0        0        0   7.0  250.0    WSW   \n",
       "1996-11-02 08:00:00     0     0   31.0        0        0   7.0  280.0   West   \n",
       "1996-11-02 09:00:00     0     0   31.0        0        0   6.0  270.0   West   \n",
       "1996-11-02 10:00:00     0     0   31.0        0        0   6.0  280.0   West   \n",
       "1996-11-02 11:00:00     0     0   30.0        0        0   5.0  270.0   West   \n",
       "1996-11-02 12:00:00     0     0   27.0        0        0   3.5   20.0    NNE   \n",
       "1996-11-02 13:00:00     0     0   25.0        0        0   3.0    0.0  North   \n",
       "1996-11-02 14:00:00     0     0   22.0        0        0   2.0    0.0  North   \n",
       "1996-11-02 15:00:00     0     0   21.0        0        0   2.0    0.0  North   \n",
       "1996-11-02 16:00:00     0     0   19.0        0        0   1.2    0.0  North   \n",
       "1996-11-02 17:00:00     0     0   20.0        0        0   1.1    0.0  North   \n",
       "...                   ...   ...    ...      ...      ...   ...    ...    ...   \n",
       "2016-11-28 11:00:00     0     0   28.0        0        0   4.0  310.0     NW   \n",
       "2016-11-28 12:30:00     0     0   23.0        0        0   3.0    0.0  North   \n",
       "2016-11-29 03:30:00     0     0   13.0        0        0   2.0    0.0  North   \n",
       "2016-11-29 05:00:00     0     0   21.0        0        0   3.0    0.0  North   \n",
       "2016-11-29 06:00:00     0     0   25.0        0        0   2.0  250.0    WSW   \n",
       "2016-11-29 07:00:00     0     0   27.0        0        0   3.5    0.0  North   \n",
       "2016-11-29 08:00:00     0     0   27.0        0        0   3.5  340.0    NNW   \n",
       "2016-11-29 08:30:00     0     0   28.0        0        0   3.0  340.0    NNW   \n",
       "2016-11-29 09:30:00     0     0   27.0        0        0   2.0   40.0     NE   \n",
       "2016-11-29 10:00:00     0     0   27.0        0        0   2.0   40.0     NE   \n",
       "2016-11-29 10:30:00     0     0   27.0        0        0   2.0    0.0  North   \n",
       "2016-11-29 11:00:00     0     0   26.0        0        0   2.0    0.0  North   \n",
       "2016-11-29 11:30:00     0     0   23.0        0        0   2.0    0.0  North   \n",
       "2016-11-30 02:00:00     0     0   15.0        0        0   0.1   90.0   East   \n",
       "2016-11-30 02:30:00     0     0   16.0        0        0   0.1    0.0  North   \n",
       "2016-11-30 03:30:00     0     0   16.0        0        0   0.3   70.0    ENE   \n",
       "2016-11-30 04:00:00     0     0   16.0        0        0   0.3   80.0   East   \n",
       "2016-11-30 04:30:00     0     0   17.0        0        0   0.3  100.0   East   \n",
       "2016-11-30 05:00:00     0     0   19.0        0        0   0.5  120.0    ESE   \n",
       "2016-11-30 07:00:00     0     0   23.0        0        0   1.0  110.0    ESE   \n",
       "2016-11-30 08:00:00     0     0   26.0        0        0   1.0  120.0    ESE   \n",
       "2016-11-30 08:30:00     0     0   26.0        0        0   1.0  120.0    ESE   \n",
       "2016-11-30 09:00:00     0     0   26.0        0        0   1.0  110.0    ESE   \n",
       "2016-11-30 10:00:00     0     0   25.0        0        0   1.8  140.0     SE   \n",
       "2016-11-30 10:30:00     0     0   25.0        0        0   2.0  110.0    ESE   \n",
       "2016-11-30 11:00:00     0     0   25.0        0        0   2.0  110.0    ESE   \n",
       "2016-11-30 11:30:00     0     0   24.0        0        0   1.5  140.0     SE   \n",
       "2016-11-30 12:00:00     0     0   23.0        0        0   1.0  140.0     SE   \n",
       "2016-11-30 12:30:00     0     0   21.0        0        0   1.5    0.0  North   \n",
       "2016-11-30 13:00:00     0     0   19.0        0        0   1.2    0.0  North   \n",
       "\n",
       "                     wgustm  windchillm  wspdm  temom  month  \n",
       "datetime_utc                                                  \n",
       "1996-11-01 11:00:00    37.0         5.0    7.4   30.0     11  \n",
       "1996-11-01 12:00:00    37.0         5.0    9.0   28.0     11  \n",
       "1996-11-01 13:00:00    37.0         5.0    9.0   24.0     11  \n",
       "1996-11-01 14:00:00    37.0         5.0    9.0   24.0     11  \n",
       "1996-11-01 16:00:00    37.0         5.0    0.0   23.0     11  \n",
       "1996-11-01 17:00:00    37.0         5.0    9.0   21.0     11  \n",
       "1996-11-01 18:00:00    37.0         5.0    0.0   21.0     11  \n",
       "1996-11-01 19:00:00    37.0         5.0    9.0   21.0     11  \n",
       "1996-11-01 20:00:00    37.0         5.0    9.0   19.0     11  \n",
       "1996-11-01 21:00:00    37.0         5.0    9.0   19.0     11  \n",
       "1996-11-01 22:00:00    37.0         5.0    9.0   19.0     11  \n",
       "1996-11-01 23:00:00    37.0         5.0    9.0   19.0     11  \n",
       "1996-11-02 00:00:00    37.0         5.0    9.0   19.0     11  \n",
       "1996-11-02 01:00:00    37.0         5.0    9.0   19.0     11  \n",
       "1996-11-02 02:00:00    37.0         5.0    9.3   20.0     11  \n",
       "1996-11-02 03:00:00    37.0         5.0    9.3   22.0     11  \n",
       "1996-11-02 04:00:00    37.0         5.0   20.4   23.0     11  \n",
       "1996-11-02 05:00:00    37.0         5.0   13.0   26.0     11  \n",
       "1996-11-02 06:00:00    37.0         5.0   16.7   28.0     11  \n",
       "1996-11-02 07:00:00    37.0         5.0   22.2   30.0     11  \n",
       "1996-11-02 08:00:00    37.0         5.0   18.5   31.0     11  \n",
       "1996-11-02 09:00:00    37.0         5.0   22.2   31.0     11  \n",
       "1996-11-02 10:00:00    37.0         5.0   14.8   31.0     11  \n",
       "1996-11-02 11:00:00    37.0         5.0   14.8   30.0     11  \n",
       "1996-11-02 12:00:00    37.0         5.0    7.4   27.0     11  \n",
       "1996-11-02 13:00:00    37.0         5.0    0.0   25.0     11  \n",
       "1996-11-02 14:00:00    37.0         5.0    0.0   22.0     11  \n",
       "1996-11-02 15:00:00    37.0         5.0    9.0   21.0     11  \n",
       "1996-11-02 16:00:00    37.0         5.0    0.0   19.0     11  \n",
       "1996-11-02 17:00:00    37.0         5.0    0.0   20.0     11  \n",
       "...                     ...         ...    ...    ...    ...  \n",
       "2016-11-28 11:00:00    37.0         5.0    5.6   28.0     11  \n",
       "2016-11-28 12:30:00    37.0         5.0    0.0   23.0     11  \n",
       "2016-11-29 03:30:00    37.0         5.0    0.0   13.0     11  \n",
       "2016-11-29 05:00:00    37.0         5.0    0.0   21.0     11  \n",
       "2016-11-29 06:00:00    37.0         5.0    5.6   25.0     11  \n",
       "2016-11-29 07:00:00    37.0         5.0    0.0   27.0     11  \n",
       "2016-11-29 08:00:00    37.0         5.0    3.7   27.0     11  \n",
       "2016-11-29 08:30:00    37.0         5.0    5.6   28.0     11  \n",
       "2016-11-29 09:30:00    37.0         5.0    3.7   27.0     11  \n",
       "2016-11-29 10:00:00    37.0         5.0    3.7   27.0     11  \n",
       "2016-11-29 10:30:00    37.0         5.0    0.0   27.0     11  \n",
       "2016-11-29 11:00:00    37.0         5.0    0.0   26.0     11  \n",
       "2016-11-29 11:30:00    37.0         5.0    0.0   23.0     11  \n",
       "2016-11-30 02:00:00    37.0         5.0    3.7   15.0     11  \n",
       "2016-11-30 02:30:00    37.0         5.0    0.0   16.0     11  \n",
       "2016-11-30 03:30:00    37.0         5.0    5.6   16.0     11  \n",
       "2016-11-30 04:00:00    37.0         5.0    9.3   16.0     11  \n",
       "2016-11-30 04:30:00    37.0         5.0    3.7   17.0     11  \n",
       "2016-11-30 05:00:00    37.0         5.0    7.4   19.0     11  \n",
       "2016-11-30 07:00:00    37.0         5.0    7.4   23.0     11  \n",
       "2016-11-30 08:00:00    37.0         5.0    7.4   26.0     11  \n",
       "2016-11-30 08:30:00    37.0         5.0    7.4   26.0     11  \n",
       "2016-11-30 09:00:00    37.0         5.0    7.4   26.0     11  \n",
       "2016-11-30 10:00:00    37.0         5.0    3.7   25.0     11  \n",
       "2016-11-30 10:30:00    37.0         5.0    3.7   25.0     11  \n",
       "2016-11-30 11:00:00    37.0         5.0    3.7   25.0     11  \n",
       "2016-11-30 11:30:00    37.0         5.0    7.4   24.0     11  \n",
       "2016-11-30 12:00:00    37.0         5.0    7.4   23.0     11  \n",
       "2016-11-30 12:30:00    37.0         5.0    0.0   21.0     11  \n",
       "2016-11-30 13:00:00    37.0         5.0    0.0   19.0     11  \n",
       "\n",
       "[6769 rows x 20 columns]"
      ]
     },
     "execution_count": 342,
     "metadata": {},
     "output_type": "execute_result"
    }
   ],
   "source": [
    "df_month"
   ]
  },
  {
   "cell_type": "code",
   "execution_count": 355,
   "metadata": {},
   "outputs": [],
   "source": [
    "l=df_month['conds'].value_counts()    "
   ]
  },
  {
   "cell_type": "code",
   "execution_count": 356,
   "metadata": {},
   "outputs": [],
   "source": [
    "labels=l.index"
   ]
  },
  {
   "cell_type": "code",
   "execution_count": 358,
   "metadata": {},
   "outputs": [],
   "source": [
    "labels=labels[0:5]"
   ]
  },
  {
   "cell_type": "code",
   "execution_count": 360,
   "metadata": {},
   "outputs": [],
   "source": [
    "sizes=l[0:5]"
   ]
  },
  {
   "cell_type": "code",
   "execution_count": 361,
   "metadata": {},
   "outputs": [
    {
     "data": {
      "text/plain": [
       "Smoke          5112\n",
       "Haze            954\n",
       "Mist            158\n",
       "Clear           148\n",
       "Shallow Fog     114\n",
       "Name: conds, dtype: int64"
      ]
     },
     "execution_count": 361,
     "metadata": {},
     "output_type": "execute_result"
    }
   ],
   "source": [
    "sizes"
   ]
  },
  {
   "cell_type": "code",
   "execution_count": 366,
   "metadata": {},
   "outputs": [
    {
     "data": {
      "image/png": "[encoded data removed]",
      "text/plain": [
       "<Figure size 432x288 with 1 Axes>"
      ]
     },
     "metadata": {},
     "output_type": "display_data"
    }
   ],
   "source": [
    "colors = ['blue', 'green', 'red', 'cyan','yellow']\n",
    "patches, texts = plt.pie(sizes, colors=colors, shadow=True, startangle=90)\n",
    "plt.legend(patches, labels, loc=\"best\")\n",
    "plt.axis('equal')\n",
    "plt.title('November')\n",
    "plt.tight_layout()\n",
    "plt.show()"
   ]
  },
  {
   "cell_type": "code",
   "execution_count": 367,
   "metadata": {},
   "outputs": [
    {
     "data": {
      "image/png": "[encoded data removed]",
      "text/plain": [
       "<Figure size 432x288 with 1 Axes>"
      ]
     },
     "metadata": {},
     "output_type": "display_data"
    }
   ],
   "source": [
    "df_month=grp.get_group(month[1])\n",
    "l=df_month['conds'].value_counts()\n",
    "labels=l.index\n",
    "sizes=l[0:5]\n",
    "colors = ['blue', 'green', 'red', 'cyan','yellow']\n",
    "patches, texts = plt.pie(sizes, colors=colors, shadow=True, startangle=90)\n",
    "plt.legend(patches, labels, loc=\"best\")\n",
    "plt.axis('equal')\n",
    "plt.title('DEcember')\n",
    "plt.tight_layout()\n",
    "plt.show()"
   ]
  },
  {
   "cell_type": "code",
   "execution_count": 368,
   "metadata": {},
   "outputs": [
    {
     "data": {
      "image/png": "[encoded data removed]",
      "text/plain": [
       "<Figure size 432x288 with 1 Axes>"
      ]
     },
     "metadata": {},
     "output_type": "display_data"
    }
   ],
   "source": [
    "df_month=grp.get_group(month[2])\n",
    "l=df_month['conds'].value_counts()\n",
    "labels=l.index\n",
    "sizes=l[0:5]\n",
    "colors = ['blue', 'green', 'red', 'cyan','yellow']\n",
    "patches, texts = plt.pie(sizes, colors=colors, shadow=True, startangle=90)\n",
    "plt.legend(patches, labels, loc=\"best\")\n",
    "plt.axis('equal')\n",
    "plt.title('January')\n",
    "plt.tight_layout()\n",
    "plt.show()"
   ]
  },
  {
   "cell_type": "code",
   "execution_count": null,
   "metadata": {},
   "outputs": [],
   "source": []
  }
 ],
 "metadata": {
  "kernelspec": {
   "display_name": "Python 3",
   "language": "python",
   "name": "python3"
  },
  "language_info": {
   "codemirror_mode": {
    "name": "ipython",
    "version": 3
   },
   "file_extension": ".py",
   "mimetype": "text/x-python",
   "name": "python",
   "nbconvert_exporter": "python",
   "pygments_lexer": "ipython3",
   "version": "3.7.3"
  }
 },
 "nbformat": 4,
 "nbformat_minor": 2
}
